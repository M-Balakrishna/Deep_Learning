{
 "cells": [
  {
   "cell_type": "code",
   "execution_count": 14,
   "id": "52ddeea0",
   "metadata": {},
   "outputs": [
    {
     "name": "stdout",
     "output_type": "stream",
     "text": [
      "enter elements in binary format and seperated by \",\"1,1,1,1,0,0,0\n",
      "[1, 1, 1, 1, 0, 0, 0]\n",
      "AND_Result : 0\n",
      "OR_Result : 1\n"
     ]
    }
   ],
   "source": [
    "def mcp(input_variables, act_fn):\n",
    "    if any(x not in (0,1) for x in input_variables):\n",
    "        raise('please provide inputs in binary')\n",
    "    if act_fn == 'AND':\n",
    "        return int(all(input_variables))\n",
    "    elif act_fn == 'OR':\n",
    "        return int(any(input_variables))\n",
    "    else:\n",
    "        raise (\"Use either AND or OR as act_fn\")\n",
    "input_variables = input('enter elements in binary format and seperated by \",\"',)\n",
    "input_variables = list(int(x) for x in input_variables.split(','))\n",
    "print(input_variables)\n",
    "print('AND_Result :', mcp(input_variables, 'AND'))\n",
    "print('OR_Result :', mcp(input_variables, 'OR'))\n"
   ]
  },
  {
   "cell_type": "code",
   "execution_count": null,
   "id": "97ebd989",
   "metadata": {},
   "outputs": [],
   "source": []
  }
 ],
 "metadata": {
  "kernelspec": {
   "display_name": "Python 3 (ipykernel)",
   "language": "python",
   "name": "python3"
  },
  "language_info": {
   "codemirror_mode": {
    "name": "ipython",
    "version": 3
   },
   "file_extension": ".py",
   "mimetype": "text/x-python",
   "name": "python",
   "nbconvert_exporter": "python",
   "pygments_lexer": "ipython3",
   "version": "3.9.13"
  }
 },
 "nbformat": 4,
 "nbformat_minor": 5
}
