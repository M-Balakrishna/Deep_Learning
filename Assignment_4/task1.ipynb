{
 "cells": [
  {
   "cell_type": "code",
   "execution_count": 1,
   "id": "09e221d0",
   "metadata": {},
   "outputs": [
    {
     "name": "stdout",
     "output_type": "stream",
     "text": [
      "Using TensorFlow backend\n"
     ]
    }
   ],
   "source": [
    "import pandas as pd\n",
    "import numpy as np\n",
    "import keras\n",
    "\n",
    "from sklearn.model_selection import train_test_split\n",
    "#i#mport imblearn\n",
    "#from imblearn.over_sampling import SMOTE\n",
    "from keras import Sequential\n",
    "from keras.layers import Dense,Dropout,BatchNormalization,Input\n",
    "import matplotlib.pyplot as plt\n",
    "\n",
    "from sklearn.metrics import accuracy_score\n",
    "from sklearn.metrics import confusion_matrix\n",
    "import keras_tuner as k\n",
    "from hyperopt import fmin, tpe, Trials\n",
    "from keras import Sequential\n",
    "from keras.layers import Dense\n",
    "#pip install keras-tuner --upgrade\n",
    "#pip install hyperopt\n",
    "from sklearn.metrics import accuracy_score\n",
    "from sklearn.metrics import confusion_matrix\n",
    "from sklearn.metrics import confusion_matrix,ConfusionMatrixDisplay\n",
    "from mlxtend.plotting  import plot_decision_regions "
   ]
  },
  {
   "cell_type": "code",
   "execution_count": 2,
   "id": "adfce933",
   "metadata": {},
   "outputs": [],
   "source": [
    "df=pd.read_csv(\"1.ushape.csv\",header=None)"
   ]
  },
  {
   "cell_type": "code",
   "execution_count": 3,
   "id": "3644e858",
   "metadata": {},
   "outputs": [
    {
     "data": {
      "text/plain": [
       "(100, 3)"
      ]
     },
     "execution_count": 3,
     "metadata": {},
     "output_type": "execute_result"
    }
   ],
   "source": [
    "df.shape"
   ]
  },
  {
   "cell_type": "code",
   "execution_count": 4,
   "id": "34a88789",
   "metadata": {},
   "outputs": [
    {
     "data": {
      "text/html": [
       "<div>\n",
       "<style scoped>\n",
       "    .dataframe tbody tr th:only-of-type {\n",
       "        vertical-align: middle;\n",
       "    }\n",
       "\n",
       "    .dataframe tbody tr th {\n",
       "        vertical-align: top;\n",
       "    }\n",
       "\n",
       "    .dataframe thead th {\n",
       "        text-align: right;\n",
       "    }\n",
       "</style>\n",
       "<table border=\"1\" class=\"dataframe\">\n",
       "  <thead>\n",
       "    <tr style=\"text-align: right;\">\n",
       "      <th></th>\n",
       "      <th>0</th>\n",
       "      <th>1</th>\n",
       "      <th>2</th>\n",
       "    </tr>\n",
       "  </thead>\n",
       "  <tbody>\n",
       "    <tr>\n",
       "      <th>0</th>\n",
       "      <td>0.031595</td>\n",
       "      <td>0.986988</td>\n",
       "      <td>0.0</td>\n",
       "    </tr>\n",
       "    <tr>\n",
       "      <th>1</th>\n",
       "      <td>2.115098</td>\n",
       "      <td>-0.046244</td>\n",
       "      <td>1.0</td>\n",
       "    </tr>\n",
       "    <tr>\n",
       "      <th>2</th>\n",
       "      <td>0.882490</td>\n",
       "      <td>-0.075756</td>\n",
       "      <td>0.0</td>\n",
       "    </tr>\n",
       "    <tr>\n",
       "      <th>3</th>\n",
       "      <td>-0.055144</td>\n",
       "      <td>-0.037332</td>\n",
       "      <td>1.0</td>\n",
       "    </tr>\n",
       "    <tr>\n",
       "      <th>4</th>\n",
       "      <td>0.829545</td>\n",
       "      <td>-0.539321</td>\n",
       "      <td>1.0</td>\n",
       "    </tr>\n",
       "  </tbody>\n",
       "</table>\n",
       "</div>"
      ],
      "text/plain": [
       "          0         1    2\n",
       "0  0.031595  0.986988  0.0\n",
       "1  2.115098 -0.046244  1.0\n",
       "2  0.882490 -0.075756  0.0\n",
       "3 -0.055144 -0.037332  1.0\n",
       "4  0.829545 -0.539321  1.0"
      ]
     },
     "execution_count": 4,
     "metadata": {},
     "output_type": "execute_result"
    }
   ],
   "source": [
    "df.head()"
   ]
  },
  {
   "cell_type": "code",
   "execution_count": 5,
   "id": "e7cd5e40",
   "metadata": {},
   "outputs": [
    {
     "data": {
      "text/html": [
       "<div>\n",
       "<style scoped>\n",
       "    .dataframe tbody tr th:only-of-type {\n",
       "        vertical-align: middle;\n",
       "    }\n",
       "\n",
       "    .dataframe tbody tr th {\n",
       "        vertical-align: top;\n",
       "    }\n",
       "\n",
       "    .dataframe thead th {\n",
       "        text-align: right;\n",
       "    }\n",
       "</style>\n",
       "<table border=\"1\" class=\"dataframe\">\n",
       "  <thead>\n",
       "    <tr style=\"text-align: right;\">\n",
       "      <th></th>\n",
       "      <th>0</th>\n",
       "      <th>1</th>\n",
       "      <th>2</th>\n",
       "    </tr>\n",
       "  </thead>\n",
       "  <tbody>\n",
       "    <tr>\n",
       "      <th>95</th>\n",
       "      <td>1.699453</td>\n",
       "      <td>0.587720</td>\n",
       "      <td>1.0</td>\n",
       "    </tr>\n",
       "    <tr>\n",
       "      <th>96</th>\n",
       "      <td>0.218623</td>\n",
       "      <td>-0.652521</td>\n",
       "      <td>1.0</td>\n",
       "    </tr>\n",
       "    <tr>\n",
       "      <th>97</th>\n",
       "      <td>0.952914</td>\n",
       "      <td>-0.419766</td>\n",
       "      <td>1.0</td>\n",
       "    </tr>\n",
       "    <tr>\n",
       "      <th>98</th>\n",
       "      <td>-1.318500</td>\n",
       "      <td>0.423112</td>\n",
       "      <td>0.0</td>\n",
       "    </tr>\n",
       "    <tr>\n",
       "      <th>99</th>\n",
       "      <td>-1.296818</td>\n",
       "      <td>0.184147</td>\n",
       "      <td>0.0</td>\n",
       "    </tr>\n",
       "  </tbody>\n",
       "</table>\n",
       "</div>"
      ],
      "text/plain": [
       "           0         1    2\n",
       "95  1.699453  0.587720  1.0\n",
       "96  0.218623 -0.652521  1.0\n",
       "97  0.952914 -0.419766  1.0\n",
       "98 -1.318500  0.423112  0.0\n",
       "99 -1.296818  0.184147  0.0"
      ]
     },
     "execution_count": 5,
     "metadata": {},
     "output_type": "execute_result"
    }
   ],
   "source": [
    "df.tail()"
   ]
  },
  {
   "cell_type": "code",
   "execution_count": 6,
   "id": "4e96a1fa",
   "metadata": {
    "scrolled": false
   },
   "outputs": [
    {
     "data": {
      "text/plain": [
       "0    0\n",
       "1    0\n",
       "2    0\n",
       "dtype: int64"
      ]
     },
     "execution_count": 6,
     "metadata": {},
     "output_type": "execute_result"
    }
   ],
   "source": [
    "df.isnull().sum()"
   ]
  },
  {
   "cell_type": "code",
   "execution_count": 7,
   "id": "0721298f",
   "metadata": {},
   "outputs": [],
   "source": [
    "x=df.iloc[0:,:2]"
   ]
  },
  {
   "cell_type": "code",
   "execution_count": 8,
   "id": "2624b816",
   "metadata": {},
   "outputs": [],
   "source": [
    "y=df.iloc[0:,2]"
   ]
  },
  {
   "cell_type": "code",
   "execution_count": 9,
   "id": "cf6b33ba",
   "metadata": {},
   "outputs": [
    {
     "data": {
      "text/html": [
       "<div>\n",
       "<style scoped>\n",
       "    .dataframe tbody tr th:only-of-type {\n",
       "        vertical-align: middle;\n",
       "    }\n",
       "\n",
       "    .dataframe tbody tr th {\n",
       "        vertical-align: top;\n",
       "    }\n",
       "\n",
       "    .dataframe thead th {\n",
       "        text-align: right;\n",
       "    }\n",
       "</style>\n",
       "<table border=\"1\" class=\"dataframe\">\n",
       "  <thead>\n",
       "    <tr style=\"text-align: right;\">\n",
       "      <th></th>\n",
       "      <th>0</th>\n",
       "      <th>1</th>\n",
       "    </tr>\n",
       "  </thead>\n",
       "  <tbody>\n",
       "    <tr>\n",
       "      <th>0</th>\n",
       "      <td>0.031595</td>\n",
       "      <td>0.986988</td>\n",
       "    </tr>\n",
       "    <tr>\n",
       "      <th>1</th>\n",
       "      <td>2.115098</td>\n",
       "      <td>-0.046244</td>\n",
       "    </tr>\n",
       "    <tr>\n",
       "      <th>2</th>\n",
       "      <td>0.882490</td>\n",
       "      <td>-0.075756</td>\n",
       "    </tr>\n",
       "    <tr>\n",
       "      <th>3</th>\n",
       "      <td>-0.055144</td>\n",
       "      <td>-0.037332</td>\n",
       "    </tr>\n",
       "    <tr>\n",
       "      <th>4</th>\n",
       "      <td>0.829545</td>\n",
       "      <td>-0.539321</td>\n",
       "    </tr>\n",
       "    <tr>\n",
       "      <th>...</th>\n",
       "      <td>...</td>\n",
       "      <td>...</td>\n",
       "    </tr>\n",
       "    <tr>\n",
       "      <th>95</th>\n",
       "      <td>1.699453</td>\n",
       "      <td>0.587720</td>\n",
       "    </tr>\n",
       "    <tr>\n",
       "      <th>96</th>\n",
       "      <td>0.218623</td>\n",
       "      <td>-0.652521</td>\n",
       "    </tr>\n",
       "    <tr>\n",
       "      <th>97</th>\n",
       "      <td>0.952914</td>\n",
       "      <td>-0.419766</td>\n",
       "    </tr>\n",
       "    <tr>\n",
       "      <th>98</th>\n",
       "      <td>-1.318500</td>\n",
       "      <td>0.423112</td>\n",
       "    </tr>\n",
       "    <tr>\n",
       "      <th>99</th>\n",
       "      <td>-1.296818</td>\n",
       "      <td>0.184147</td>\n",
       "    </tr>\n",
       "  </tbody>\n",
       "</table>\n",
       "<p>100 rows × 2 columns</p>\n",
       "</div>"
      ],
      "text/plain": [
       "           0         1\n",
       "0   0.031595  0.986988\n",
       "1   2.115098 -0.046244\n",
       "2   0.882490 -0.075756\n",
       "3  -0.055144 -0.037332\n",
       "4   0.829545 -0.539321\n",
       "..       ...       ...\n",
       "95  1.699453  0.587720\n",
       "96  0.218623 -0.652521\n",
       "97  0.952914 -0.419766\n",
       "98 -1.318500  0.423112\n",
       "99 -1.296818  0.184147\n",
       "\n",
       "[100 rows x 2 columns]"
      ]
     },
     "execution_count": 9,
     "metadata": {},
     "output_type": "execute_result"
    }
   ],
   "source": [
    "x"
   ]
  },
  {
   "cell_type": "code",
   "execution_count": 10,
   "id": "aa14f319",
   "metadata": {},
   "outputs": [
    {
     "data": {
      "text/plain": [
       "0"
      ]
     },
     "execution_count": 10,
     "metadata": {},
     "output_type": "execute_result"
    }
   ],
   "source": [
    "df.duplicated().sum()"
   ]
  },
  {
   "cell_type": "code",
   "execution_count": 11,
   "id": "a21bbff2",
   "metadata": {},
   "outputs": [],
   "source": [
    "x_train,x_test,y_train,y_test=train_test_split(x,y,test_size=0.10)"
   ]
  },
  {
   "cell_type": "code",
   "execution_count": 12,
   "id": "26f74023",
   "metadata": {
    "scrolled": false
   },
   "outputs": [
    {
     "data": {
      "text/plain": [
       "0          1        \n",
       "-1.318500   0.423112    1\n",
       " 1.170376   0.598407    1\n",
       " 1.094878  -0.368418    1\n",
       " 1.056146  -1.035702    1\n",
       " 1.026588   0.377825    1\n",
       "                       ..\n",
       " 0.127331  -0.379655    1\n",
       " 0.068733   0.566485    1\n",
       " 0.031595   0.986988    1\n",
       " 0.024936   0.107480    1\n",
       " 2.181372  -0.022917    1\n",
       "Length: 90, dtype: int64"
      ]
     },
     "execution_count": 12,
     "metadata": {},
     "output_type": "execute_result"
    }
   ],
   "source": [
    "x_train.value_counts()"
   ]
  },
  {
   "cell_type": "code",
   "execution_count": 13,
   "id": "aafad262",
   "metadata": {},
   "outputs": [
    {
     "data": {
      "text/plain": [
       "1.0    46\n",
       "0.0    44\n",
       "Name: 2, dtype: int64"
      ]
     },
     "execution_count": 13,
     "metadata": {},
     "output_type": "execute_result"
    }
   ],
   "source": [
    "y_train.value_counts()"
   ]
  },
  {
   "cell_type": "code",
   "execution_count": 14,
   "id": "f63cc1c8",
   "metadata": {},
   "outputs": [],
   "source": [
    "from sklearn.preprocessing import StandardScaler\n",
    "std = StandardScaler()\n",
    "x_trainp = std.fit_transform(x_train)\n",
    "x_testp = std.transform(x_test)"
   ]
  },
  {
   "cell_type": "code",
   "execution_count": 15,
   "id": "fb3dabaa",
   "metadata": {},
   "outputs": [],
   "source": [
    "trials = Trials()"
   ]
  },
  {
   "cell_type": "code",
   "execution_count": 18,
   "id": "66d2c049",
   "metadata": {},
   "outputs": [],
   "source": [
    "from keras.regularizers import L1,L2,L1L2"
   ]
  },
  {
   "cell_type": "code",
   "execution_count": 261,
   "id": "24d53c98",
   "metadata": {},
   "outputs": [],
   "source": [
    "def modellss(hp):\n",
    "    model=Sequential()\n",
    "    model.add(Input(shape=(2,)))\n",
    "    \n",
    "    for i in range(hp.Int(\"hiddenlayers\",min_value=5,max_value=30)):\n",
    "                model.add(Dense(units=hp.Int(\"neurons{}\".format(i),min_value=1,max_value=25),activation=\"relu\",kernel_regularizer=L2(0.001),bias_regularizer=L2(0.001),kernel_initializer=\"he_normal\"))\n",
    "\n",
    "                    \n",
    "                \n",
    "    model.add(Dense(1,activation=\"sigmoid\"))\n",
    "    model.compile(loss='binary_crossentropy',optimizer='sgd', metrics=['accuracy'])\n",
    "    return model"
   ]
  },
  {
   "cell_type": "code",
   "execution_count": 262,
   "id": "998fc91a",
   "metadata": {
    "scrolled": true
   },
   "outputs": [],
   "source": [
    "tuner=k.RandomSearch(modellss,objective=\"val_accuracy\",max_trials=25,directory=\"C:\\\\Users\\\\admin\\\\main\",project_name=\"f17\")"
   ]
  },
  {
   "cell_type": "code",
   "execution_count": 263,
   "id": "abda5eca",
   "metadata": {
    "scrolled": false
   },
   "outputs": [
    {
     "name": "stdout",
     "output_type": "stream",
     "text": [
      "Trial 25 Complete [00h 00m 15s]\n",
      "val_accuracy: 0.8999999761581421\n",
      "\n",
      "Best val_accuracy So Far: 0.8999999761581421\n",
      "Total elapsed time: 00h 05m 09s\n"
     ]
    }
   ],
   "source": [
    "tuner.search(x_trainp,y_train,epochs=40,validation_data=(x_test,y_test))"
   ]
  },
  {
   "cell_type": "code",
   "execution_count": 264,
   "id": "b081ef4c",
   "metadata": {
    "scrolled": true
   },
   "outputs": [
    {
     "name": "stdout",
     "output_type": "stream",
     "text": [
      "Results summary\n",
      "Results in C:\\Users\\admin\\main\\f17\n",
      "Showing 10 best trials\n",
      "Objective(name=\"val_accuracy\", direction=\"max\")\n",
      "\n",
      "Trial 05 summary\n",
      "Hyperparameters:\n",
      "hiddenlayers: 24\n",
      "neurons0: 12\n",
      "neurons1: 13\n",
      "neurons2: 13\n",
      "neurons3: 11\n",
      "neurons4: 15\n",
      "neurons5: 7\n",
      "neurons6: 1\n",
      "neurons7: 18\n",
      "neurons8: 12\n",
      "neurons9: 25\n",
      "neurons10: 9\n",
      "neurons11: 25\n",
      "neurons12: 18\n",
      "neurons13: 22\n",
      "neurons14: 19\n",
      "neurons15: 16\n",
      "neurons16: 5\n",
      "neurons17: 2\n",
      "neurons18: 15\n",
      "neurons19: 18\n",
      "neurons20: 8\n",
      "neurons21: 3\n",
      "neurons22: 9\n",
      "neurons23: 12\n",
      "neurons24: 2\n",
      "neurons25: 3\n",
      "neurons26: 19\n",
      "Score: 0.8999999761581421\n",
      "\n",
      "Trial 07 summary\n",
      "Hyperparameters:\n",
      "hiddenlayers: 14\n",
      "neurons0: 4\n",
      "neurons1: 2\n",
      "neurons2: 12\n",
      "neurons3: 23\n",
      "neurons4: 16\n",
      "neurons5: 4\n",
      "neurons6: 25\n",
      "neurons7: 19\n",
      "neurons8: 24\n",
      "neurons9: 13\n",
      "neurons10: 10\n",
      "neurons11: 15\n",
      "neurons12: 17\n",
      "neurons13: 22\n",
      "neurons14: 10\n",
      "neurons15: 18\n",
      "neurons16: 14\n",
      "neurons17: 12\n",
      "neurons18: 4\n",
      "neurons19: 20\n",
      "neurons20: 13\n",
      "neurons21: 9\n",
      "neurons22: 4\n",
      "neurons23: 3\n",
      "neurons24: 12\n",
      "neurons25: 22\n",
      "neurons26: 17\n",
      "Score: 0.8999999761581421\n",
      "\n",
      "Trial 17 summary\n",
      "Hyperparameters:\n",
      "hiddenlayers: 28\n",
      "neurons0: 4\n",
      "neurons1: 6\n",
      "neurons2: 8\n",
      "neurons3: 23\n",
      "neurons4: 8\n",
      "neurons5: 21\n",
      "neurons6: 10\n",
      "neurons7: 2\n",
      "neurons8: 18\n",
      "neurons9: 25\n",
      "neurons10: 5\n",
      "neurons11: 11\n",
      "neurons12: 14\n",
      "neurons13: 20\n",
      "neurons14: 19\n",
      "neurons15: 8\n",
      "neurons16: 3\n",
      "neurons17: 16\n",
      "neurons18: 4\n",
      "neurons19: 11\n",
      "neurons20: 17\n",
      "neurons21: 17\n",
      "neurons22: 8\n",
      "neurons23: 3\n",
      "neurons24: 9\n",
      "neurons25: 11\n",
      "neurons26: 9\n",
      "neurons27: 21\n",
      "Score: 0.8999999761581421\n",
      "\n",
      "Trial 20 summary\n",
      "Hyperparameters:\n",
      "hiddenlayers: 24\n",
      "neurons0: 19\n",
      "neurons1: 5\n",
      "neurons2: 6\n",
      "neurons3: 10\n",
      "neurons4: 20\n",
      "neurons5: 19\n",
      "neurons6: 18\n",
      "neurons7: 11\n",
      "neurons8: 14\n",
      "neurons9: 25\n",
      "neurons10: 4\n",
      "neurons11: 15\n",
      "neurons12: 3\n",
      "neurons13: 21\n",
      "neurons14: 21\n",
      "neurons15: 10\n",
      "neurons16: 5\n",
      "neurons17: 19\n",
      "neurons18: 14\n",
      "neurons19: 18\n",
      "neurons20: 6\n",
      "neurons21: 22\n",
      "neurons22: 20\n",
      "neurons23: 8\n",
      "neurons24: 17\n",
      "neurons25: 15\n",
      "neurons26: 19\n",
      "neurons27: 10\n",
      "Score: 0.8999999761581421\n",
      "\n",
      "Trial 23 summary\n",
      "Hyperparameters:\n",
      "hiddenlayers: 22\n",
      "neurons0: 1\n",
      "neurons1: 24\n",
      "neurons2: 6\n",
      "neurons3: 24\n",
      "neurons4: 10\n",
      "neurons5: 16\n",
      "neurons6: 14\n",
      "neurons7: 22\n",
      "neurons8: 11\n",
      "neurons9: 8\n",
      "neurons10: 15\n",
      "neurons11: 21\n",
      "neurons12: 4\n",
      "neurons13: 18\n",
      "neurons14: 5\n",
      "neurons15: 6\n",
      "neurons16: 18\n",
      "neurons17: 21\n",
      "neurons18: 18\n",
      "neurons19: 14\n",
      "neurons20: 23\n",
      "neurons21: 22\n",
      "neurons22: 10\n",
      "neurons23: 7\n",
      "neurons24: 18\n",
      "neurons25: 21\n",
      "neurons26: 4\n",
      "neurons27: 23\n",
      "Score: 0.8999999761581421\n",
      "\n",
      "Trial 24 summary\n",
      "Hyperparameters:\n",
      "hiddenlayers: 26\n",
      "neurons0: 23\n",
      "neurons1: 7\n",
      "neurons2: 16\n",
      "neurons3: 19\n",
      "neurons4: 20\n",
      "neurons5: 17\n",
      "neurons6: 23\n",
      "neurons7: 20\n",
      "neurons8: 17\n",
      "neurons9: 5\n",
      "neurons10: 19\n",
      "neurons11: 18\n",
      "neurons12: 22\n",
      "neurons13: 21\n",
      "neurons14: 16\n",
      "neurons15: 14\n",
      "neurons16: 4\n",
      "neurons17: 24\n",
      "neurons18: 16\n",
      "neurons19: 8\n",
      "neurons20: 25\n",
      "neurons21: 15\n",
      "neurons22: 17\n",
      "neurons23: 2\n",
      "neurons24: 7\n",
      "neurons25: 9\n",
      "neurons26: 10\n",
      "neurons27: 5\n",
      "Score: 0.8999999761581421\n",
      "\n",
      "Trial 03 summary\n",
      "Hyperparameters:\n",
      "hiddenlayers: 13\n",
      "neurons0: 18\n",
      "neurons1: 2\n",
      "neurons2: 18\n",
      "neurons3: 19\n",
      "neurons4: 13\n",
      "neurons5: 21\n",
      "neurons6: 13\n",
      "neurons7: 3\n",
      "neurons8: 20\n",
      "neurons9: 20\n",
      "neurons10: 23\n",
      "neurons11: 3\n",
      "neurons12: 10\n",
      "neurons13: 5\n",
      "neurons14: 1\n",
      "neurons15: 20\n",
      "neurons16: 25\n",
      "neurons17: 7\n",
      "neurons18: 6\n",
      "neurons19: 22\n",
      "neurons20: 9\n",
      "neurons21: 10\n",
      "neurons22: 3\n",
      "neurons23: 13\n",
      "neurons24: 25\n",
      "neurons25: 1\n",
      "neurons26: 16\n",
      "Score: 0.800000011920929\n",
      "\n",
      "Trial 12 summary\n",
      "Hyperparameters:\n",
      "hiddenlayers: 5\n",
      "neurons0: 12\n",
      "neurons1: 9\n",
      "neurons2: 10\n",
      "neurons3: 6\n",
      "neurons4: 2\n",
      "neurons5: 12\n",
      "neurons6: 11\n",
      "neurons7: 21\n",
      "neurons8: 18\n",
      "neurons9: 19\n",
      "neurons10: 23\n",
      "neurons11: 8\n",
      "neurons12: 10\n",
      "neurons13: 8\n",
      "neurons14: 4\n",
      "neurons15: 17\n",
      "neurons16: 15\n",
      "neurons17: 5\n",
      "neurons18: 6\n",
      "neurons19: 14\n",
      "neurons20: 24\n",
      "neurons21: 14\n",
      "neurons22: 19\n",
      "neurons23: 20\n",
      "neurons24: 25\n",
      "neurons25: 8\n",
      "neurons26: 17\n",
      "neurons27: 17\n",
      "Score: 0.800000011920929\n",
      "\n",
      "Trial 16 summary\n",
      "Hyperparameters:\n",
      "hiddenlayers: 20\n",
      "neurons0: 11\n",
      "neurons1: 12\n",
      "neurons2: 8\n",
      "neurons3: 6\n",
      "neurons4: 6\n",
      "neurons5: 15\n",
      "neurons6: 5\n",
      "neurons7: 15\n",
      "neurons8: 15\n",
      "neurons9: 25\n",
      "neurons10: 19\n",
      "neurons11: 18\n",
      "neurons12: 13\n",
      "neurons13: 18\n",
      "neurons14: 20\n",
      "neurons15: 6\n",
      "neurons16: 19\n",
      "neurons17: 2\n",
      "neurons18: 25\n",
      "neurons19: 21\n",
      "neurons20: 6\n",
      "neurons21: 25\n",
      "neurons22: 3\n",
      "neurons23: 10\n",
      "neurons24: 9\n",
      "neurons25: 5\n",
      "neurons26: 8\n",
      "neurons27: 25\n",
      "Score: 0.800000011920929\n",
      "\n",
      "Trial 18 summary\n",
      "Hyperparameters:\n",
      "hiddenlayers: 5\n",
      "neurons0: 13\n",
      "neurons1: 9\n",
      "neurons2: 21\n",
      "neurons3: 9\n",
      "neurons4: 25\n",
      "neurons5: 2\n",
      "neurons6: 19\n",
      "neurons7: 11\n",
      "neurons8: 10\n",
      "neurons9: 4\n",
      "neurons10: 22\n",
      "neurons11: 5\n",
      "neurons12: 15\n",
      "neurons13: 15\n",
      "neurons14: 11\n",
      "neurons15: 24\n",
      "neurons16: 15\n",
      "neurons17: 3\n",
      "neurons18: 22\n",
      "neurons19: 4\n",
      "neurons20: 22\n",
      "neurons21: 13\n",
      "neurons22: 17\n",
      "neurons23: 5\n",
      "neurons24: 25\n",
      "neurons25: 6\n",
      "neurons26: 20\n",
      "neurons27: 10\n",
      "Score: 0.800000011920929\n"
     ]
    }
   ],
   "source": [
    "tuner.results_summary()"
   ]
  },
  {
   "cell_type": "code",
   "execution_count": 265,
   "id": "2d5829a5",
   "metadata": {
    "scrolled": true
   },
   "outputs": [
    {
     "data": {
      "text/plain": [
       "{'hiddenlayers': 24,\n",
       " 'neurons0': 12,\n",
       " 'neurons1': 13,\n",
       " 'neurons2': 13,\n",
       " 'neurons3': 11,\n",
       " 'neurons4': 15,\n",
       " 'neurons5': 7,\n",
       " 'neurons6': 1,\n",
       " 'neurons7': 18,\n",
       " 'neurons8': 12,\n",
       " 'neurons9': 25,\n",
       " 'neurons10': 9,\n",
       " 'neurons11': 25,\n",
       " 'neurons12': 18,\n",
       " 'neurons13': 22,\n",
       " 'neurons14': 19,\n",
       " 'neurons15': 16,\n",
       " 'neurons16': 5,\n",
       " 'neurons17': 2,\n",
       " 'neurons18': 15,\n",
       " 'neurons19': 18,\n",
       " 'neurons20': 8,\n",
       " 'neurons21': 3,\n",
       " 'neurons22': 9,\n",
       " 'neurons23': 12,\n",
       " 'neurons24': 2,\n",
       " 'neurons25': 3,\n",
       " 'neurons26': 19}"
      ]
     },
     "execution_count": 265,
     "metadata": {},
     "output_type": "execute_result"
    }
   ],
   "source": [
    "tuner.get_best_hyperparameters()[0].values"
   ]
  },
  {
   "cell_type": "code",
   "execution_count": 266,
   "id": "b15271f4",
   "metadata": {},
   "outputs": [],
   "source": [
    "fmodel = tuner.get_best_models(num_models=1)[0]"
   ]
  },
  {
   "cell_type": "code",
   "execution_count": 267,
   "id": "13ea620b",
   "metadata": {
    "scrolled": true
   },
   "outputs": [
    {
     "name": "stdout",
     "output_type": "stream",
     "text": [
      "Model: \"sequential\"\n",
      "_________________________________________________________________\n",
      " Layer (type)                Output Shape              Param #   \n",
      "=================================================================\n",
      " dense (Dense)               (None, 12)                36        \n",
      "                                                                 \n",
      " dense_1 (Dense)             (None, 13)                169       \n",
      "                                                                 \n",
      " dense_2 (Dense)             (None, 13)                182       \n",
      "                                                                 \n",
      " dense_3 (Dense)             (None, 11)                154       \n",
      "                                                                 \n",
      " dense_4 (Dense)             (None, 15)                180       \n",
      "                                                                 \n",
      " dense_5 (Dense)             (None, 7)                 112       \n",
      "                                                                 \n",
      " dense_6 (Dense)             (None, 1)                 8         \n",
      "                                                                 \n",
      " dense_7 (Dense)             (None, 18)                36        \n",
      "                                                                 \n",
      " dense_8 (Dense)             (None, 12)                228       \n",
      "                                                                 \n",
      " dense_9 (Dense)             (None, 25)                325       \n",
      "                                                                 \n",
      " dense_10 (Dense)            (None, 9)                 234       \n",
      "                                                                 \n",
      " dense_11 (Dense)            (None, 25)                250       \n",
      "                                                                 \n",
      " dense_12 (Dense)            (None, 18)                468       \n",
      "                                                                 \n",
      " dense_13 (Dense)            (None, 22)                418       \n",
      "                                                                 \n",
      " dense_14 (Dense)            (None, 19)                437       \n",
      "                                                                 \n",
      " dense_15 (Dense)            (None, 16)                320       \n",
      "                                                                 \n",
      " dense_16 (Dense)            (None, 5)                 85        \n",
      "                                                                 \n",
      " dense_17 (Dense)            (None, 2)                 12        \n",
      "                                                                 \n",
      " dense_18 (Dense)            (None, 15)                45        \n",
      "                                                                 \n",
      " dense_19 (Dense)            (None, 18)                288       \n",
      "                                                                 \n",
      " dense_20 (Dense)            (None, 8)                 152       \n",
      "                                                                 \n",
      " dense_21 (Dense)            (None, 3)                 27        \n",
      "                                                                 \n",
      " dense_22 (Dense)            (None, 9)                 36        \n",
      "                                                                 \n",
      " dense_23 (Dense)            (None, 12)                120       \n",
      "                                                                 \n",
      " dense_24 (Dense)            (None, 1)                 13        \n",
      "                                                                 \n",
      "=================================================================\n",
      "Total params: 4335 (16.93 KB)\n",
      "Trainable params: 4335 (16.93 KB)\n",
      "Non-trainable params: 0 (0.00 Byte)\n",
      "_________________________________________________________________\n"
     ]
    }
   ],
   "source": [
    "fmodel.summary()"
   ]
  },
  {
   "cell_type": "code",
   "execution_count": 268,
   "id": "abbcdc9c",
   "metadata": {
    "scrolled": true
   },
   "outputs": [
    {
     "name": "stdout",
     "output_type": "stream",
     "text": [
      "Epoch 1/40\n",
      "9/9 [==============================] - 5s 87ms/step - loss: 1.2085 - accuracy: 0.8272 - val_loss: 1.2555 - val_accuracy: 0.5556\n",
      "Epoch 2/40\n",
      "9/9 [==============================] - 0s 10ms/step - loss: 1.1671 - accuracy: 0.7901 - val_loss: 1.2647 - val_accuracy: 0.6667\n",
      "Epoch 3/40\n",
      "9/9 [==============================] - 0s 10ms/step - loss: 1.1485 - accuracy: 0.8519 - val_loss: 1.2460 - val_accuracy: 0.6667\n",
      "Epoch 4/40\n",
      "9/9 [==============================] - 0s 11ms/step - loss: 1.1425 - accuracy: 0.8765 - val_loss: 1.2760 - val_accuracy: 0.6667\n",
      "Epoch 5/40\n",
      "9/9 [==============================] - 0s 11ms/step - loss: 1.1229 - accuracy: 0.8642 - val_loss: 1.2968 - val_accuracy: 0.7778\n",
      "Epoch 6/40\n",
      "9/9 [==============================] - 0s 10ms/step - loss: 1.1153 - accuracy: 0.8765 - val_loss: 1.2392 - val_accuracy: 0.6667\n",
      "Epoch 7/40\n",
      "9/9 [==============================] - 0s 10ms/step - loss: 1.1129 - accuracy: 0.8642 - val_loss: 1.2587 - val_accuracy: 0.7778\n",
      "Epoch 8/40\n",
      "9/9 [==============================] - 0s 11ms/step - loss: 1.1060 - accuracy: 0.8889 - val_loss: 1.2436 - val_accuracy: 0.7778\n",
      "Epoch 9/40\n",
      "9/9 [==============================] - 0s 10ms/step - loss: 1.0888 - accuracy: 0.8642 - val_loss: 1.2173 - val_accuracy: 0.7778\n",
      "Epoch 10/40\n",
      "9/9 [==============================] - 0s 10ms/step - loss: 1.0718 - accuracy: 0.8889 - val_loss: 1.3192 - val_accuracy: 0.4444\n",
      "Epoch 11/40\n",
      "9/9 [==============================] - 0s 10ms/step - loss: 1.2589 - accuracy: 0.7037 - val_loss: 1.2481 - val_accuracy: 0.6667\n",
      "Epoch 12/40\n",
      "9/9 [==============================] - 0s 10ms/step - loss: 1.1546 - accuracy: 0.8519 - val_loss: 1.1603 - val_accuracy: 0.7778\n",
      "Epoch 13/40\n",
      "9/9 [==============================] - 0s 9ms/step - loss: 1.0708 - accuracy: 0.8889 - val_loss: 1.1893 - val_accuracy: 0.6667\n",
      "Epoch 14/40\n",
      "9/9 [==============================] - 0s 32ms/step - loss: 1.0593 - accuracy: 0.8642 - val_loss: 1.2091 - val_accuracy: 0.7778\n",
      "Epoch 15/40\n",
      "9/9 [==============================] - 0s 33ms/step - loss: 1.0315 - accuracy: 0.9012 - val_loss: 1.1657 - val_accuracy: 0.7778\n",
      "Epoch 16/40\n",
      "9/9 [==============================] - 0s 37ms/step - loss: 1.0397 - accuracy: 0.8642 - val_loss: 1.1577 - val_accuracy: 0.7778\n",
      "Epoch 17/40\n",
      "9/9 [==============================] - 0s 38ms/step - loss: 1.0232 - accuracy: 0.9012 - val_loss: 1.1857 - val_accuracy: 0.7778\n",
      "Epoch 18/40\n",
      "9/9 [==============================] - 0s 34ms/step - loss: 1.0078 - accuracy: 0.9259 - val_loss: 1.1525 - val_accuracy: 0.7778\n",
      "Epoch 19/40\n",
      "9/9 [==============================] - 0s 36ms/step - loss: 1.0117 - accuracy: 0.8889 - val_loss: 1.1399 - val_accuracy: 0.7778\n",
      "Epoch 20/40\n",
      "9/9 [==============================] - 0s 36ms/step - loss: 0.9988 - accuracy: 0.9259 - val_loss: 1.2316 - val_accuracy: 0.7778\n",
      "Epoch 21/40\n",
      "9/9 [==============================] - 0s 34ms/step - loss: 1.0247 - accuracy: 0.9012 - val_loss: 1.1519 - val_accuracy: 0.7778\n",
      "Epoch 22/40\n",
      "9/9 [==============================] - 0s 9ms/step - loss: 0.9748 - accuracy: 0.9259 - val_loss: 1.1721 - val_accuracy: 0.7778\n",
      "Epoch 23/40\n",
      "9/9 [==============================] - 0s 9ms/step - loss: 0.9732 - accuracy: 0.9136 - val_loss: 1.1746 - val_accuracy: 0.7778\n",
      "Epoch 24/40\n",
      "9/9 [==============================] - 0s 9ms/step - loss: 0.9491 - accuracy: 0.9259 - val_loss: 1.0858 - val_accuracy: 0.7778\n",
      "Epoch 25/40\n",
      "9/9 [==============================] - 0s 10ms/step - loss: 0.9461 - accuracy: 0.9383 - val_loss: 1.0833 - val_accuracy: 0.7778\n",
      "Epoch 26/40\n",
      "9/9 [==============================] - 0s 9ms/step - loss: 0.9540 - accuracy: 0.9136 - val_loss: 1.0737 - val_accuracy: 0.7778\n",
      "Epoch 27/40\n",
      "9/9 [==============================] - 0s 9ms/step - loss: 0.9256 - accuracy: 0.9383 - val_loss: 1.0689 - val_accuracy: 0.7778\n",
      "Epoch 28/40\n",
      "9/9 [==============================] - 0s 9ms/step - loss: 0.9340 - accuracy: 0.9136 - val_loss: 1.0526 - val_accuracy: 0.7778\n",
      "Epoch 29/40\n",
      "9/9 [==============================] - 0s 9ms/step - loss: 0.9273 - accuracy: 0.9012 - val_loss: 1.0457 - val_accuracy: 0.7778\n",
      "Epoch 30/40\n",
      "9/9 [==============================] - 0s 9ms/step - loss: 0.8947 - accuracy: 0.9506 - val_loss: 1.1480 - val_accuracy: 0.7778\n",
      "Epoch 31/40\n",
      "9/9 [==============================] - 0s 9ms/step - loss: 0.9253 - accuracy: 0.9136 - val_loss: 1.1449 - val_accuracy: 0.6667\n",
      "Epoch 32/40\n",
      "9/9 [==============================] - 0s 9ms/step - loss: 0.9454 - accuracy: 0.8889 - val_loss: 0.9897 - val_accuracy: 0.7778\n",
      "Epoch 33/40\n",
      "9/9 [==============================] - 0s 8ms/step - loss: 0.8831 - accuracy: 0.9630 - val_loss: 1.0873 - val_accuracy: 0.7778\n",
      "Epoch 34/40\n",
      "9/9 [==============================] - 0s 8ms/step - loss: 0.9150 - accuracy: 0.9259 - val_loss: 1.0285 - val_accuracy: 0.7778\n",
      "Epoch 35/40\n",
      "9/9 [==============================] - 0s 9ms/step - loss: 0.8681 - accuracy: 0.9383 - val_loss: 1.0058 - val_accuracy: 0.7778\n",
      "Epoch 36/40\n",
      "9/9 [==============================] - 0s 12ms/step - loss: 0.8740 - accuracy: 0.9383 - val_loss: 1.0362 - val_accuracy: 0.7778\n",
      "Epoch 37/40\n",
      "9/9 [==============================] - 0s 10ms/step - loss: 0.9528 - accuracy: 0.9136 - val_loss: 1.1060 - val_accuracy: 0.7778\n",
      "Epoch 38/40\n",
      "9/9 [==============================] - 0s 10ms/step - loss: 0.9109 - accuracy: 0.9136 - val_loss: 1.1201 - val_accuracy: 0.7778\n",
      "Epoch 39/40\n",
      "9/9 [==============================] - 0s 11ms/step - loss: 0.9087 - accuracy: 0.9136 - val_loss: 1.1108 - val_accuracy: 0.7778\n",
      "Epoch 40/40\n",
      "9/9 [==============================] - 0s 11ms/step - loss: 0.8725 - accuracy: 0.9506 - val_loss: 1.0163 - val_accuracy: 0.7778\n"
     ]
    }
   ],
   "source": [
    "history=fmodel.fit(x_trainp,y_train,batch_size=10,epochs=40,validation_split=0.1)"
   ]
  },
  {
   "cell_type": "code",
   "execution_count": 269,
   "id": "877c02c8",
   "metadata": {},
   "outputs": [
    {
     "data": {
      "text/plain": [
       "<matplotlib.legend.Legend at 0x230abd8a3d0>"
      ]
     },
     "execution_count": 269,
     "metadata": {},
     "output_type": "execute_result"
    },
    {
     "data": {
      "image/png": "[encoded data removed]",
      "text/plain": [
       "<Figure size 640x480 with 1 Axes>"
      ]
     },
     "metadata": {},
     "output_type": "display_data"
    }
   ],
   "source": [
    "plt.plot(range(1,41),history.history[\"loss\"],label=\"train_loss\")\n",
    "plt.plot(range(1,41),history.history[\"val_loss\"],label=\"val_loss\")\n",
    "plt.legend()"
   ]
  },
  {
   "cell_type": "code",
   "execution_count": 270,
   "id": "43bdfe37",
   "metadata": {
    "scrolled": true
   },
   "outputs": [
    {
     "data": {
      "text/plain": [
       "[1.2555433511734009,\n",
       " 1.2646886110305786,\n",
       " 1.2460428476333618,\n",
       " 1.2759904861450195,\n",
       " 1.2967581748962402,\n",
       " 1.2392046451568604,\n",
       " 1.2586590051651,\n",
       " 1.2436373233795166,\n",
       " 1.217280387878418,\n",
       " 1.3191959857940674,\n",
       " 1.2480521202087402,\n",
       " 1.160299301147461,\n",
       " 1.1892647743225098,\n",
       " 1.2090935707092285,\n",
       " 1.1656782627105713,\n",
       " 1.1577266454696655,\n",
       " 1.185669183731079,\n",
       " 1.1525466442108154,\n",
       " 1.1398556232452393,\n",
       " 1.2315573692321777,\n",
       " 1.1518566608428955,\n",
       " 1.1721022129058838,\n",
       " 1.1745798587799072,\n",
       " 1.0857765674591064,\n",
       " 1.083295226097107,\n",
       " 1.073732614517212,\n",
       " 1.0688928365707397,\n",
       " 1.0526326894760132,\n",
       " 1.0456640720367432,\n",
       " 1.1479802131652832,\n",
       " 1.144871473312378,\n",
       " 0.9896601438522339,\n",
       " 1.0873339176177979,\n",
       " 1.0285255908966064,\n",
       " 1.0058311223983765,\n",
       " 1.0362138748168945,\n",
       " 1.1060092449188232,\n",
       " 1.1201187372207642,\n",
       " 1.110766887664795,\n",
       " 1.0162907838821411]"
      ]
     },
     "execution_count": 270,
     "metadata": {},
     "output_type": "execute_result"
    }
   ],
   "source": [
    "history.history['val_loss']"
   ]
  },
  {
   "cell_type": "code",
   "execution_count": 271,
   "id": "0fa460fe",
   "metadata": {},
   "outputs": [
    {
     "name": "stdout",
     "output_type": "stream",
     "text": [
      "1/1 [==============================] - 0s 221ms/step\n"
     ]
    }
   ],
   "source": [
    "predicted=fmodel.predict(x_test)"
   ]
  },
  {
   "cell_type": "code",
   "execution_count": 272,
   "id": "0776a997",
   "metadata": {},
   "outputs": [],
   "source": [
    "predicted=np.where(predicted>0.5,1,0)"
   ]
  },
  {
   "cell_type": "code",
   "execution_count": 273,
   "id": "f6d45bcb",
   "metadata": {},
   "outputs": [
    {
     "data": {
      "text/plain": [
       "0.7"
      ]
     },
     "execution_count": 273,
     "metadata": {},
     "output_type": "execute_result"
    }
   ],
   "source": [
    "accuracy_score(y_test,predicted)"
   ]
  },
  {
   "cell_type": "code",
   "execution_count": 274,
   "id": "6ae95610",
   "metadata": {
    "scrolled": true
   },
   "outputs": [
    {
     "data": {
      "text/plain": [
       "array([[5, 1],\n",
       "       [2, 2]], dtype=int64)"
      ]
     },
     "execution_count": 274,
     "metadata": {},
     "output_type": "execute_result"
    }
   ],
   "source": [
    "confusion_matrix(y_test,predicted)"
   ]
  },
  {
   "cell_type": "code",
   "execution_count": 275,
   "id": "e4376e74",
   "metadata": {},
   "outputs": [
    {
     "data": {
      "image/png": "[encoded data removed]",
      "text/plain": [
       "<Figure size 640x480 with 2 Axes>"
      ]
     },
     "metadata": {},
     "output_type": "display_data"
    }
   ],
   "source": [
    "\n",
    "cm = confusion_matrix(y_test,predicted)\n",
    "va = ConfusionMatrixDisplay(cm)\n",
    "va.plot()\n",
    "plt.show()"
   ]
  },
  {
   "cell_type": "code",
   "execution_count": 276,
   "id": "dd3a3f1d",
   "metadata": {},
   "outputs": [],
   "source": [
    "#pip install mlxtend"
   ]
  },
  {
   "cell_type": "code",
   "execution_count": 277,
   "id": "72d537d6",
   "metadata": {
    "scrolled": true
   },
   "outputs": [
    {
     "name": "stdout",
     "output_type": "stream",
     "text": [
      "9600/9600 [==============================] - 34s 4ms/step\n"
     ]
    },
    {
     "data": {
      "text/plain": [
       "<AxesSubplot:>"
      ]
     },
     "execution_count": 277,
     "metadata": {},
     "output_type": "execute_result"
    },
    {
     "data": {
      "image/png": "[encoded data removed]",
      "text/plain": [
       "<Figure size 640x480 with 1 Axes>"
      ]
     },
     "metadata": {},
     "output_type": "display_data"
    }
   ],
   "source": [
    "y_train_int = y_train.values.astype(int)\n",
    "plot_decision_regions(x_trainp, y_train_int, clf=fmodel)"
   ]
  },
  {
   "cell_type": "code",
   "execution_count": 278,
   "id": "75a8882d",
   "metadata": {},
   "outputs": [],
   "source": [
    "y_test_int = y_test.values.astype(int)"
   ]
  },
  {
   "cell_type": "code",
   "execution_count": 279,
   "id": "0373ecf5",
   "metadata": {
    "scrolled": false
   },
   "outputs": [
    {
     "name": "stdout",
     "output_type": "stream",
     "text": [
      "9600/9600 [==============================] - 40s 4ms/step\n"
     ]
    },
    {
     "data": {
      "text/plain": [
       "<AxesSubplot:>"
      ]
     },
     "execution_count": 279,
     "metadata": {},
     "output_type": "execute_result"
    },
    {
     "data": {
      "image/png": "[encoded data removed]",
      "text/plain": [
       "<Figure size 640x480 with 1 Axes>"
      ]
     },
     "metadata": {},
     "output_type": "display_data"
    }
   ],
   "source": [
    "\n",
    "plot_decision_regions(x_testp,y_test_int,clf=fmodel)"
   ]
  },
  {
   "cell_type": "code",
   "execution_count": null,
   "id": "e14b614b",
   "metadata": {},
   "outputs": [],
   "source": []
  },
  {
   "cell_type": "code",
   "execution_count": null,
   "id": "c469517b",
   "metadata": {},
   "outputs": [],
   "source": []
  }
 ],
 "metadata": {
  "kernelspec": {
   "display_name": "Python 3 (ipykernel)",
   "language": "python",
   "name": "python3"
  },
  "language_info": {
   "codemirror_mode": {
    "name": "ipython",
    "version": 3
   },
   "file_extension": ".py",
   "mimetype": "text/x-python",
   "name": "python",
   "nbconvert_exporter": "python",
   "pygments_lexer": "ipython3",
   "version": "3.9.13"
  }
 },
 "nbformat": 4,
 "nbformat_minor": 5
}
