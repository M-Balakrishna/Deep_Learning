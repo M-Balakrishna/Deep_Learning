{
 "cells": [
  {
   "cell_type": "code",
   "execution_count": 1,
   "id": "03efc028",
   "metadata": {},
   "outputs": [
    {
     "name": "stdout",
     "output_type": "stream",
     "text": [
      "Using TensorFlow backend\n"
     ]
    }
   ],
   "source": [
    "import pandas as pd\n",
    "import numpy as np\n",
    "import keras\n",
    "\n",
    "from sklearn.model_selection import train_test_split\n",
    "#i#mport imblearn\n",
    "#from imblearn.over_sampling import SMOTE\n",
    "from keras import Sequential\n",
    "from keras.layers import Dense,Dropout,BatchNormalization,Input\n",
    "import matplotlib.pyplot as plt\n",
    "\n",
    "from sklearn.metrics import accuracy_score\n",
    "from sklearn.metrics import confusion_matrix\n",
    "import keras_tuner as k\n",
    "from hyperopt import fmin, tpe, Trials\n",
    "from keras import Sequential\n",
    "from keras.layers import Dense\n",
    "#pip install keras-tuner --upgrade\n",
    "#pip install hyperopt\n",
    "from sklearn.metrics import accuracy_score\n",
    "from sklearn.metrics import confusion_matrix\n",
    "from sklearn.metrics import confusion_matrix,ConfusionMatrixDisplay\n",
    "from mlxtend.plotting  import plot_decision_regions "
   ]
  },
  {
   "cell_type": "code",
   "execution_count": 2,
   "id": "40e15428",
   "metadata": {},
   "outputs": [],
   "source": [
    " df=pd.read_csv(\"9.random.csv\",header=None)"
   ]
  },
  {
   "cell_type": "code",
   "execution_count": 3,
   "id": "7e1dbedf",
   "metadata": {},
   "outputs": [
    {
     "data": {
      "text/html": [
       "<div>\n",
       "<style scoped>\n",
       "    .dataframe tbody tr th:only-of-type {\n",
       "        vertical-align: middle;\n",
       "    }\n",
       "\n",
       "    .dataframe tbody tr th {\n",
       "        vertical-align: top;\n",
       "    }\n",
       "\n",
       "    .dataframe thead th {\n",
       "        text-align: right;\n",
       "    }\n",
       "</style>\n",
       "<table border=\"1\" class=\"dataframe\">\n",
       "  <thead>\n",
       "    <tr style=\"text-align: right;\">\n",
       "      <th></th>\n",
       "      <th>0</th>\n",
       "      <th>1</th>\n",
       "      <th>2</th>\n",
       "    </tr>\n",
       "  </thead>\n",
       "  <tbody>\n",
       "    <tr>\n",
       "      <th>0</th>\n",
       "      <td>0.374</td>\n",
       "      <td>1.080</td>\n",
       "      <td>0.0</td>\n",
       "    </tr>\n",
       "    <tr>\n",
       "      <th>1</th>\n",
       "      <td>0.445</td>\n",
       "      <td>1.140</td>\n",
       "      <td>1.0</td>\n",
       "    </tr>\n",
       "    <tr>\n",
       "      <th>2</th>\n",
       "      <td>0.514</td>\n",
       "      <td>1.130</td>\n",
       "      <td>0.0</td>\n",
       "    </tr>\n",
       "    <tr>\n",
       "      <th>3</th>\n",
       "      <td>0.466</td>\n",
       "      <td>1.240</td>\n",
       "      <td>1.0</td>\n",
       "    </tr>\n",
       "    <tr>\n",
       "      <th>4</th>\n",
       "      <td>0.371</td>\n",
       "      <td>0.968</td>\n",
       "      <td>1.0</td>\n",
       "    </tr>\n",
       "  </tbody>\n",
       "</table>\n",
       "</div>"
      ],
      "text/plain": [
       "       0      1    2\n",
       "0  0.374  1.080  0.0\n",
       "1  0.445  1.140  1.0\n",
       "2  0.514  1.130  0.0\n",
       "3  0.466  1.240  1.0\n",
       "4  0.371  0.968  1.0"
      ]
     },
     "execution_count": 3,
     "metadata": {},
     "output_type": "execute_result"
    }
   ],
   "source": [
    "df.head()"
   ]
  },
  {
   "cell_type": "code",
   "execution_count": 5,
   "id": "2fb94064",
   "metadata": {},
   "outputs": [
    {
     "data": {
      "text/plain": [
       "(400, 3)"
      ]
     },
     "execution_count": 5,
     "metadata": {},
     "output_type": "execute_result"
    }
   ],
   "source": [
    "df.shape"
   ]
  },
  {
   "cell_type": "code",
   "execution_count": 6,
   "id": "0e92f19e",
   "metadata": {},
   "outputs": [
    {
     "data": {
      "text/plain": [
       "0    0\n",
       "1    0\n",
       "2    0\n",
       "dtype: int64"
      ]
     },
     "execution_count": 6,
     "metadata": {},
     "output_type": "execute_result"
    }
   ],
   "source": [
    "df.isnull().sum()"
   ]
  },
  {
   "cell_type": "code",
   "execution_count": 7,
   "id": "de397eb2",
   "metadata": {},
   "outputs": [
    {
     "data": {
      "text/plain": [
       "0"
      ]
     },
     "execution_count": 7,
     "metadata": {},
     "output_type": "execute_result"
    }
   ],
   "source": [
    "df.duplicated().sum()"
   ]
  },
  {
   "cell_type": "code",
   "execution_count": 8,
   "id": "100135e4",
   "metadata": {},
   "outputs": [],
   "source": [
    "x=df.iloc[0:,:2]"
   ]
  },
  {
   "cell_type": "code",
   "execution_count": 9,
   "id": "55e010d2",
   "metadata": {},
   "outputs": [],
   "source": [
    "y=df.iloc[0:,2]"
   ]
  },
  {
   "cell_type": "code",
   "execution_count": 10,
   "id": "d8a17e84",
   "metadata": {},
   "outputs": [],
   "source": [
    "x_train,x_test,y_train,y_test=train_test_split(x,y,test_size=0.10)"
   ]
  },
  {
   "cell_type": "code",
   "execution_count": 11,
   "id": "3798f6f6",
   "metadata": {},
   "outputs": [
    {
     "data": {
      "text/plain": [
       "360"
      ]
     },
     "execution_count": 11,
     "metadata": {},
     "output_type": "execute_result"
    }
   ],
   "source": [
    "x_train.value_counts().sum()"
   ]
  },
  {
   "cell_type": "code",
   "execution_count": 12,
   "id": "2c4816bb",
   "metadata": {},
   "outputs": [
    {
     "data": {
      "text/plain": [
       "0.0    184\n",
       "1.0    176\n",
       "Name: 2, dtype: int64"
      ]
     },
     "execution_count": 12,
     "metadata": {},
     "output_type": "execute_result"
    }
   ],
   "source": [
    "y_train.value_counts()"
   ]
  },
  {
   "cell_type": "code",
   "execution_count": 13,
   "id": "5dc50424",
   "metadata": {},
   "outputs": [],
   "source": [
    "from sklearn.preprocessing import StandardScaler\n",
    "std = StandardScaler()\n",
    "x_trainp = std.fit_transform(x_train)\n",
    "x_testp = std.transform(x_test)"
   ]
  },
  {
   "cell_type": "code",
   "execution_count": 14,
   "id": "e60818dc",
   "metadata": {},
   "outputs": [],
   "source": [
    "trials = Trials()"
   ]
  },
  {
   "cell_type": "code",
   "execution_count": 15,
   "id": "c7eca98c",
   "metadata": {},
   "outputs": [],
   "source": [
    "from keras.regularizers import L1,L2,L1L2"
   ]
  },
  {
   "cell_type": "code",
   "execution_count": 66,
   "id": "1bce7f03",
   "metadata": {},
   "outputs": [],
   "source": [
    "def modellss(hp):\n",
    "    model=Sequential()\n",
    "    model.add(Input(shape=(2,)))\n",
    "    \n",
    "    for i in range(hp.Int(\"hiddenlayers\",min_value=5,max_value=10)):\n",
    "                model.add(Dense(units=hp.Int(\"neurons{}\".format(i),min_value=5,max_value=25),activation=\"relu\",kernel_regularizer=L2(0.001),bias_regularizer=L2(0.001),kernel_initializer=\"he_normal\"))\n",
    "\n",
    "                    \n",
    "                \n",
    "    model.add(Dense(1,activation=\"sigmoid\"))\n",
    "    model.compile(loss='binary_crossentropy',optimizer='adam', metrics=['accuracy'])\n",
    "    return model"
   ]
  },
  {
   "cell_type": "code",
   "execution_count": 67,
   "id": "e6be9d4b",
   "metadata": {},
   "outputs": [],
   "source": [
    "tuner=k.RandomSearch(modellss,objective=\"val_accuracy\",max_trials=25,directory=\"C:\\\\Users\\\\admin\\\\main\\\\folder9\",project_name=\"f4\")"
   ]
  },
  {
   "cell_type": "code",
   "execution_count": 68,
   "id": "f38d94f7",
   "metadata": {
    "scrolled": true
   },
   "outputs": [
    {
     "name": "stdout",
     "output_type": "stream",
     "text": [
      "Trial 25 Complete [00h 00m 15s]\n",
      "val_accuracy: 0.675000011920929\n",
      "\n",
      "Best val_accuracy So Far: 0.75\n",
      "Total elapsed time: 00h 04m 54s\n"
     ]
    }
   ],
   "source": [
    "tuner.search(x_trainp,y_train,epochs=100,validation_data=(x_test,y_test))"
   ]
  },
  {
   "cell_type": "code",
   "execution_count": 69,
   "id": "477885ba",
   "metadata": {},
   "outputs": [
    {
     "name": "stdout",
     "output_type": "stream",
     "text": [
      "Results summary\n",
      "Results in C:\\Users\\admin\\main\\folder9\\f4\n",
      "Showing 10 best trials\n",
      "Objective(name=\"val_accuracy\", direction=\"max\")\n",
      "\n",
      "Trial 11 summary\n",
      "Hyperparameters:\n",
      "hiddenlayers: 5\n",
      "neurons0: 16\n",
      "neurons1: 10\n",
      "neurons2: 9\n",
      "neurons3: 18\n",
      "neurons4: 19\n",
      "neurons5: 18\n",
      "neurons6: 9\n",
      "neurons7: 5\n",
      "neurons8: 12\n",
      "neurons9: 20\n",
      "Score: 0.75\n",
      "\n",
      "Trial 13 summary\n",
      "Hyperparameters:\n",
      "hiddenlayers: 6\n",
      "neurons0: 14\n",
      "neurons1: 23\n",
      "neurons2: 15\n",
      "neurons3: 14\n",
      "neurons4: 21\n",
      "neurons5: 12\n",
      "neurons6: 8\n",
      "neurons7: 17\n",
      "neurons8: 13\n",
      "neurons9: 24\n",
      "Score: 0.75\n",
      "\n",
      "Trial 04 summary\n",
      "Hyperparameters:\n",
      "hiddenlayers: 5\n",
      "neurons0: 17\n",
      "neurons1: 23\n",
      "neurons2: 5\n",
      "neurons3: 20\n",
      "neurons4: 12\n",
      "neurons5: 16\n",
      "neurons6: 6\n",
      "neurons7: 10\n",
      "neurons8: 20\n",
      "neurons9: 22\n",
      "Score: 0.7250000238418579\n",
      "\n",
      "Trial 23 summary\n",
      "Hyperparameters:\n",
      "hiddenlayers: 8\n",
      "neurons0: 24\n",
      "neurons1: 23\n",
      "neurons2: 24\n",
      "neurons3: 16\n",
      "neurons4: 19\n",
      "neurons5: 20\n",
      "neurons6: 10\n",
      "neurons7: 16\n",
      "neurons8: 14\n",
      "neurons9: 8\n",
      "Score: 0.7250000238418579\n",
      "\n",
      "Trial 01 summary\n",
      "Hyperparameters:\n",
      "hiddenlayers: 5\n",
      "neurons0: 25\n",
      "neurons1: 8\n",
      "neurons2: 14\n",
      "neurons3: 5\n",
      "neurons4: 14\n",
      "neurons5: 14\n",
      "neurons6: 18\n",
      "neurons7: 22\n",
      "neurons8: 23\n",
      "neurons9: 16\n",
      "Score: 0.699999988079071\n",
      "\n",
      "Trial 03 summary\n",
      "Hyperparameters:\n",
      "hiddenlayers: 5\n",
      "neurons0: 25\n",
      "neurons1: 14\n",
      "neurons2: 7\n",
      "neurons3: 6\n",
      "neurons4: 11\n",
      "neurons5: 17\n",
      "neurons6: 20\n",
      "neurons7: 5\n",
      "neurons8: 11\n",
      "neurons9: 20\n",
      "Score: 0.699999988079071\n",
      "\n",
      "Trial 09 summary\n",
      "Hyperparameters:\n",
      "hiddenlayers: 10\n",
      "neurons0: 20\n",
      "neurons1: 11\n",
      "neurons2: 13\n",
      "neurons3: 20\n",
      "neurons4: 11\n",
      "neurons5: 13\n",
      "neurons6: 8\n",
      "neurons7: 18\n",
      "neurons8: 23\n",
      "neurons9: 12\n",
      "Score: 0.699999988079071\n",
      "\n",
      "Trial 14 summary\n",
      "Hyperparameters:\n",
      "hiddenlayers: 7\n",
      "neurons0: 21\n",
      "neurons1: 9\n",
      "neurons2: 14\n",
      "neurons3: 15\n",
      "neurons4: 23\n",
      "neurons5: 16\n",
      "neurons6: 14\n",
      "neurons7: 15\n",
      "neurons8: 22\n",
      "neurons9: 5\n",
      "Score: 0.699999988079071\n",
      "\n",
      "Trial 21 summary\n",
      "Hyperparameters:\n",
      "hiddenlayers: 6\n",
      "neurons0: 10\n",
      "neurons1: 17\n",
      "neurons2: 9\n",
      "neurons3: 14\n",
      "neurons4: 22\n",
      "neurons5: 14\n",
      "neurons6: 19\n",
      "neurons7: 12\n",
      "neurons8: 6\n",
      "neurons9: 24\n",
      "Score: 0.699999988079071\n",
      "\n",
      "Trial 02 summary\n",
      "Hyperparameters:\n",
      "hiddenlayers: 5\n",
      "neurons0: 25\n",
      "neurons1: 18\n",
      "neurons2: 25\n",
      "neurons3: 16\n",
      "neurons4: 7\n",
      "neurons5: 21\n",
      "neurons6: 22\n",
      "neurons7: 25\n",
      "neurons8: 8\n",
      "neurons9: 6\n",
      "Score: 0.675000011920929\n"
     ]
    }
   ],
   "source": [
    "tuner.results_summary()\n"
   ]
  },
  {
   "cell_type": "code",
   "execution_count": 70,
   "id": "fa732618",
   "metadata": {},
   "outputs": [
    {
     "data": {
      "text/plain": [
       "{'hiddenlayers': 5,\n",
       " 'neurons0': 16,\n",
       " 'neurons1': 10,\n",
       " 'neurons2': 9,\n",
       " 'neurons3': 18,\n",
       " 'neurons4': 19,\n",
       " 'neurons5': 18,\n",
       " 'neurons6': 9,\n",
       " 'neurons7': 5,\n",
       " 'neurons8': 12,\n",
       " 'neurons9': 20}"
      ]
     },
     "execution_count": 70,
     "metadata": {},
     "output_type": "execute_result"
    }
   ],
   "source": [
    "tuner.get_best_hyperparameters()[0].values"
   ]
  },
  {
   "cell_type": "code",
   "execution_count": 71,
   "id": "331f6133",
   "metadata": {},
   "outputs": [],
   "source": [
    "fmodel = tuner.get_best_models(num_models=1)[0]"
   ]
  },
  {
   "cell_type": "code",
   "execution_count": 72,
   "id": "04bb6f25",
   "metadata": {},
   "outputs": [
    {
     "name": "stdout",
     "output_type": "stream",
     "text": [
      "Model: \"sequential\"\n",
      "_________________________________________________________________\n",
      " Layer (type)                Output Shape              Param #   \n",
      "=================================================================\n",
      " dense (Dense)               (None, 16)                48        \n",
      "                                                                 \n",
      " dense_1 (Dense)             (None, 10)                170       \n",
      "                                                                 \n",
      " dense_2 (Dense)             (None, 9)                 99        \n",
      "                                                                 \n",
      " dense_3 (Dense)             (None, 18)                180       \n",
      "                                                                 \n",
      " dense_4 (Dense)             (None, 19)                361       \n",
      "                                                                 \n",
      " dense_5 (Dense)             (None, 1)                 20        \n",
      "                                                                 \n",
      "=================================================================\n",
      "Total params: 878 (3.43 KB)\n",
      "Trainable params: 878 (3.43 KB)\n",
      "Non-trainable params: 0 (0.00 Byte)\n",
      "_________________________________________________________________\n"
     ]
    }
   ],
   "source": [
    "fmodel.summary()"
   ]
  },
  {
   "cell_type": "code",
   "execution_count": 73,
   "id": "c7814ca5",
   "metadata": {
    "scrolled": true
   },
   "outputs": [
    {
     "name": "stdout",
     "output_type": "stream",
     "text": [
      "Epoch 1/100\n",
      "33/33 [==============================] - 2s 10ms/step - loss: 0.8126 - accuracy: 0.5494 - val_loss: 0.8431 - val_accuracy: 0.5000\n",
      "Epoch 2/100\n",
      "33/33 [==============================] - 0s 4ms/step - loss: 0.8062 - accuracy: 0.5247 - val_loss: 0.8416 - val_accuracy: 0.4722\n",
      "Epoch 3/100\n",
      "33/33 [==============================] - 0s 4ms/step - loss: 0.8007 - accuracy: 0.5494 - val_loss: 0.8418 - val_accuracy: 0.4722\n",
      "Epoch 4/100\n",
      "33/33 [==============================] - 0s 4ms/step - loss: 0.8002 - accuracy: 0.5525 - val_loss: 0.8350 - val_accuracy: 0.4167\n",
      "Epoch 5/100\n",
      "33/33 [==============================] - 0s 4ms/step - loss: 0.7907 - accuracy: 0.5617 - val_loss: 0.8334 - val_accuracy: 0.3611\n",
      "Epoch 6/100\n",
      "33/33 [==============================] - 0s 4ms/step - loss: 0.7868 - accuracy: 0.5741 - val_loss: 0.8329 - val_accuracy: 0.4444\n",
      "Epoch 7/100\n",
      "33/33 [==============================] - 0s 4ms/step - loss: 0.7845 - accuracy: 0.5864 - val_loss: 0.8343 - val_accuracy: 0.4722\n",
      "Epoch 8/100\n",
      "33/33 [==============================] - 0s 4ms/step - loss: 0.7807 - accuracy: 0.5741 - val_loss: 0.8223 - val_accuracy: 0.3333\n",
      "Epoch 9/100\n",
      "33/33 [==============================] - 0s 4ms/step - loss: 0.7766 - accuracy: 0.5741 - val_loss: 0.8285 - val_accuracy: 0.4167\n",
      "Epoch 10/100\n",
      "33/33 [==============================] - 0s 4ms/step - loss: 0.7750 - accuracy: 0.5988 - val_loss: 0.8291 - val_accuracy: 0.4167\n",
      "Epoch 11/100\n",
      "33/33 [==============================] - 0s 4ms/step - loss: 0.7752 - accuracy: 0.5525 - val_loss: 0.8302 - val_accuracy: 0.4722\n",
      "Epoch 12/100\n",
      "33/33 [==============================] - 0s 4ms/step - loss: 0.7716 - accuracy: 0.5895 - val_loss: 0.8311 - val_accuracy: 0.5000\n",
      "Epoch 13/100\n",
      "33/33 [==============================] - 0s 4ms/step - loss: 0.7693 - accuracy: 0.5802 - val_loss: 0.8211 - val_accuracy: 0.4167\n",
      "Epoch 14/100\n",
      "33/33 [==============================] - 0s 4ms/step - loss: 0.7662 - accuracy: 0.6080 - val_loss: 0.8160 - val_accuracy: 0.3889\n",
      "Epoch 15/100\n",
      "33/33 [==============================] - 0s 4ms/step - loss: 0.7634 - accuracy: 0.5988 - val_loss: 0.8170 - val_accuracy: 0.4167\n",
      "Epoch 16/100\n",
      "33/33 [==============================] - 0s 4ms/step - loss: 0.7642 - accuracy: 0.6142 - val_loss: 0.8184 - val_accuracy: 0.4167\n",
      "Epoch 17/100\n",
      "33/33 [==============================] - 0s 4ms/step - loss: 0.7642 - accuracy: 0.5586 - val_loss: 0.8119 - val_accuracy: 0.3889\n",
      "Epoch 18/100\n",
      "33/33 [==============================] - 0s 4ms/step - loss: 0.7629 - accuracy: 0.5833 - val_loss: 0.8118 - val_accuracy: 0.4444\n",
      "Epoch 19/100\n",
      "33/33 [==============================] - 0s 3ms/step - loss: 0.7615 - accuracy: 0.5710 - val_loss: 0.8132 - val_accuracy: 0.4444\n",
      "Epoch 20/100\n",
      "33/33 [==============================] - 0s 4ms/step - loss: 0.7579 - accuracy: 0.5741 - val_loss: 0.8141 - val_accuracy: 0.3611\n",
      "Epoch 21/100\n",
      "33/33 [==============================] - 0s 3ms/step - loss: 0.7554 - accuracy: 0.6019 - val_loss: 0.8108 - val_accuracy: 0.3611\n",
      "Epoch 22/100\n",
      "33/33 [==============================] - 0s 4ms/step - loss: 0.7563 - accuracy: 0.5772 - val_loss: 0.8079 - val_accuracy: 0.3611\n",
      "Epoch 23/100\n",
      "33/33 [==============================] - 0s 4ms/step - loss: 0.7559 - accuracy: 0.5525 - val_loss: 0.8174 - val_accuracy: 0.4722\n",
      "Epoch 24/100\n",
      "33/33 [==============================] - 0s 4ms/step - loss: 0.7553 - accuracy: 0.5895 - val_loss: 0.8091 - val_accuracy: 0.3333\n",
      "Epoch 25/100\n",
      "33/33 [==============================] - 0s 4ms/step - loss: 0.7520 - accuracy: 0.5895 - val_loss: 0.8105 - val_accuracy: 0.4722\n",
      "Epoch 26/100\n",
      "33/33 [==============================] - 0s 6ms/step - loss: 0.7495 - accuracy: 0.5833 - val_loss: 0.8106 - val_accuracy: 0.4167\n",
      "Epoch 27/100\n",
      "33/33 [==============================] - 0s 4ms/step - loss: 0.7505 - accuracy: 0.6049 - val_loss: 0.8132 - val_accuracy: 0.3611\n",
      "Epoch 28/100\n",
      "33/33 [==============================] - 0s 4ms/step - loss: 0.7490 - accuracy: 0.5988 - val_loss: 0.8125 - val_accuracy: 0.4444\n",
      "Epoch 29/100\n",
      "33/33 [==============================] - 0s 5ms/step - loss: 0.7507 - accuracy: 0.5679 - val_loss: 0.8046 - val_accuracy: 0.3889\n",
      "Epoch 30/100\n",
      "33/33 [==============================] - 0s 4ms/step - loss: 0.7484 - accuracy: 0.5957 - val_loss: 0.8134 - val_accuracy: 0.4167\n",
      "Epoch 31/100\n",
      "33/33 [==============================] - 0s 4ms/step - loss: 0.7481 - accuracy: 0.5895 - val_loss: 0.8061 - val_accuracy: 0.3889\n",
      "Epoch 32/100\n",
      "33/33 [==============================] - 0s 4ms/step - loss: 0.7461 - accuracy: 0.5926 - val_loss: 0.8158 - val_accuracy: 0.3889\n",
      "Epoch 33/100\n",
      "33/33 [==============================] - 0s 4ms/step - loss: 0.7428 - accuracy: 0.5926 - val_loss: 0.8128 - val_accuracy: 0.4167\n",
      "Epoch 34/100\n",
      "33/33 [==============================] - 0s 4ms/step - loss: 0.7440 - accuracy: 0.5802 - val_loss: 0.8124 - val_accuracy: 0.3889\n",
      "Epoch 35/100\n",
      "33/33 [==============================] - 0s 4ms/step - loss: 0.7461 - accuracy: 0.5710 - val_loss: 0.8073 - val_accuracy: 0.3611\n",
      "Epoch 36/100\n",
      "33/33 [==============================] - 0s 3ms/step - loss: 0.7449 - accuracy: 0.5895 - val_loss: 0.8129 - val_accuracy: 0.3889\n",
      "Epoch 37/100\n",
      "33/33 [==============================] - 0s 3ms/step - loss: 0.7413 - accuracy: 0.5957 - val_loss: 0.8165 - val_accuracy: 0.3889\n",
      "Epoch 38/100\n",
      "33/33 [==============================] - 0s 3ms/step - loss: 0.7434 - accuracy: 0.5895 - val_loss: 0.8205 - val_accuracy: 0.3889\n",
      "Epoch 39/100\n",
      "33/33 [==============================] - 0s 3ms/step - loss: 0.7395 - accuracy: 0.5957 - val_loss: 0.8105 - val_accuracy: 0.3611\n",
      "Epoch 40/100\n",
      "33/33 [==============================] - 0s 4ms/step - loss: 0.7414 - accuracy: 0.5895 - val_loss: 0.8081 - val_accuracy: 0.3611\n",
      "Epoch 41/100\n",
      "33/33 [==============================] - 0s 3ms/step - loss: 0.7409 - accuracy: 0.5741 - val_loss: 0.8098 - val_accuracy: 0.3889\n",
      "Epoch 42/100\n",
      "33/33 [==============================] - 0s 4ms/step - loss: 0.7386 - accuracy: 0.5833 - val_loss: 0.8151 - val_accuracy: 0.3889\n",
      "Epoch 43/100\n",
      "33/33 [==============================] - 0s 4ms/step - loss: 0.7400 - accuracy: 0.5926 - val_loss: 0.8122 - val_accuracy: 0.3056\n",
      "Epoch 44/100\n",
      "33/33 [==============================] - 0s 4ms/step - loss: 0.7414 - accuracy: 0.5833 - val_loss: 0.8119 - val_accuracy: 0.4167\n",
      "Epoch 45/100\n",
      "33/33 [==============================] - 0s 4ms/step - loss: 0.7378 - accuracy: 0.5710 - val_loss: 0.8223 - val_accuracy: 0.3889\n",
      "Epoch 46/100\n",
      "33/33 [==============================] - 0s 4ms/step - loss: 0.7376 - accuracy: 0.6019 - val_loss: 0.8157 - val_accuracy: 0.3333\n",
      "Epoch 47/100\n",
      "33/33 [==============================] - 0s 4ms/step - loss: 0.7409 - accuracy: 0.5772 - val_loss: 0.8214 - val_accuracy: 0.3889\n",
      "Epoch 48/100\n",
      "33/33 [==============================] - 0s 3ms/step - loss: 0.7388 - accuracy: 0.5895 - val_loss: 0.8190 - val_accuracy: 0.3611\n",
      "Epoch 49/100\n",
      "33/33 [==============================] - 0s 3ms/step - loss: 0.7376 - accuracy: 0.5802 - val_loss: 0.8112 - val_accuracy: 0.3333\n",
      "Epoch 50/100\n",
      "33/33 [==============================] - 0s 3ms/step - loss: 0.7367 - accuracy: 0.5895 - val_loss: 0.8132 - val_accuracy: 0.4167\n",
      "Epoch 51/100\n",
      "33/33 [==============================] - 0s 4ms/step - loss: 0.7335 - accuracy: 0.5772 - val_loss: 0.8150 - val_accuracy: 0.3889\n",
      "Epoch 52/100\n",
      "33/33 [==============================] - 0s 3ms/step - loss: 0.7342 - accuracy: 0.5895 - val_loss: 0.8178 - val_accuracy: 0.3889\n",
      "Epoch 53/100\n",
      "33/33 [==============================] - 0s 3ms/step - loss: 0.7328 - accuracy: 0.5988 - val_loss: 0.8178 - val_accuracy: 0.3333\n",
      "Epoch 54/100\n",
      "33/33 [==============================] - 0s 3ms/step - loss: 0.7291 - accuracy: 0.5957 - val_loss: 0.8221 - val_accuracy: 0.3889\n",
      "Epoch 55/100\n",
      "33/33 [==============================] - 0s 4ms/step - loss: 0.7310 - accuracy: 0.5957 - val_loss: 0.8193 - val_accuracy: 0.3056\n",
      "Epoch 56/100\n",
      "33/33 [==============================] - 0s 4ms/step - loss: 0.7345 - accuracy: 0.5802 - val_loss: 0.8164 - val_accuracy: 0.3889\n",
      "Epoch 57/100\n",
      "33/33 [==============================] - 0s 4ms/step - loss: 0.7336 - accuracy: 0.5864 - val_loss: 0.8168 - val_accuracy: 0.3611\n",
      "Epoch 58/100\n",
      "33/33 [==============================] - 0s 5ms/step - loss: 0.7305 - accuracy: 0.5988 - val_loss: 0.8248 - val_accuracy: 0.3889\n"
     ]
    },
    {
     "name": "stdout",
     "output_type": "stream",
     "text": [
      "Epoch 59/100\n",
      "33/33 [==============================] - 0s 4ms/step - loss: 0.7320 - accuracy: 0.6080 - val_loss: 0.8305 - val_accuracy: 0.4167\n",
      "Epoch 60/100\n",
      "33/33 [==============================] - 0s 4ms/step - loss: 0.7283 - accuracy: 0.6080 - val_loss: 0.8218 - val_accuracy: 0.3611\n",
      "Epoch 61/100\n",
      "33/33 [==============================] - 0s 4ms/step - loss: 0.7320 - accuracy: 0.5957 - val_loss: 0.8325 - val_accuracy: 0.3611\n",
      "Epoch 62/100\n",
      "33/33 [==============================] - 0s 3ms/step - loss: 0.7368 - accuracy: 0.5556 - val_loss: 0.8199 - val_accuracy: 0.3333\n",
      "Epoch 63/100\n",
      "33/33 [==============================] - 0s 4ms/step - loss: 0.7288 - accuracy: 0.5833 - val_loss: 0.8246 - val_accuracy: 0.3889\n",
      "Epoch 64/100\n",
      "33/33 [==============================] - 0s 3ms/step - loss: 0.7274 - accuracy: 0.5957 - val_loss: 0.8181 - val_accuracy: 0.3611\n",
      "Epoch 65/100\n",
      "33/33 [==============================] - 0s 3ms/step - loss: 0.7278 - accuracy: 0.5833 - val_loss: 0.8230 - val_accuracy: 0.3611\n",
      "Epoch 66/100\n",
      "33/33 [==============================] - 0s 4ms/step - loss: 0.7274 - accuracy: 0.6049 - val_loss: 0.8294 - val_accuracy: 0.3889\n",
      "Epoch 67/100\n",
      "33/33 [==============================] - 0s 3ms/step - loss: 0.7320 - accuracy: 0.5864 - val_loss: 0.8280 - val_accuracy: 0.3889\n",
      "Epoch 68/100\n",
      "33/33 [==============================] - 0s 4ms/step - loss: 0.7264 - accuracy: 0.5895 - val_loss: 0.8261 - val_accuracy: 0.3056\n",
      "Epoch 69/100\n",
      "33/33 [==============================] - 0s 4ms/step - loss: 0.7272 - accuracy: 0.5802 - val_loss: 0.8261 - val_accuracy: 0.3611\n",
      "Epoch 70/100\n",
      "33/33 [==============================] - 0s 3ms/step - loss: 0.7278 - accuracy: 0.5988 - val_loss: 0.8234 - val_accuracy: 0.3333\n",
      "Epoch 71/100\n",
      "33/33 [==============================] - 0s 3ms/step - loss: 0.7277 - accuracy: 0.5833 - val_loss: 0.8206 - val_accuracy: 0.3333\n",
      "Epoch 72/100\n",
      "33/33 [==============================] - 0s 3ms/step - loss: 0.7269 - accuracy: 0.5802 - val_loss: 0.8271 - val_accuracy: 0.3333\n",
      "Epoch 73/100\n",
      "33/33 [==============================] - 0s 3ms/step - loss: 0.7287 - accuracy: 0.5802 - val_loss: 0.8224 - val_accuracy: 0.3056\n",
      "Epoch 74/100\n",
      "33/33 [==============================] - 0s 3ms/step - loss: 0.7248 - accuracy: 0.5957 - val_loss: 0.8275 - val_accuracy: 0.3333\n",
      "Epoch 75/100\n",
      "33/33 [==============================] - 0s 4ms/step - loss: 0.7218 - accuracy: 0.5988 - val_loss: 0.8255 - val_accuracy: 0.3611\n",
      "Epoch 76/100\n",
      "33/33 [==============================] - 0s 3ms/step - loss: 0.7276 - accuracy: 0.6019 - val_loss: 0.8250 - val_accuracy: 0.3056\n",
      "Epoch 77/100\n",
      "33/33 [==============================] - 0s 4ms/step - loss: 0.7206 - accuracy: 0.5710 - val_loss: 0.8315 - val_accuracy: 0.3889\n",
      "Epoch 78/100\n",
      "33/33 [==============================] - 0s 3ms/step - loss: 0.7245 - accuracy: 0.5741 - val_loss: 0.8321 - val_accuracy: 0.3889\n",
      "Epoch 79/100\n",
      "33/33 [==============================] - 0s 3ms/step - loss: 0.7228 - accuracy: 0.5895 - val_loss: 0.8264 - val_accuracy: 0.3333\n",
      "Epoch 80/100\n",
      "33/33 [==============================] - 0s 3ms/step - loss: 0.7191 - accuracy: 0.5926 - val_loss: 0.8298 - val_accuracy: 0.3611\n",
      "Epoch 81/100\n",
      "33/33 [==============================] - 0s 4ms/step - loss: 0.7249 - accuracy: 0.5895 - val_loss: 0.8347 - val_accuracy: 0.3611\n",
      "Epoch 82/100\n",
      "33/33 [==============================] - 0s 3ms/step - loss: 0.7236 - accuracy: 0.5988 - val_loss: 0.8300 - val_accuracy: 0.3611\n",
      "Epoch 83/100\n",
      "33/33 [==============================] - 0s 4ms/step - loss: 0.7232 - accuracy: 0.5926 - val_loss: 0.8426 - val_accuracy: 0.3611\n",
      "Epoch 84/100\n",
      "33/33 [==============================] - 0s 4ms/step - loss: 0.7232 - accuracy: 0.6080 - val_loss: 0.8409 - val_accuracy: 0.3611\n",
      "Epoch 85/100\n",
      "33/33 [==============================] - 0s 4ms/step - loss: 0.7213 - accuracy: 0.5895 - val_loss: 0.8347 - val_accuracy: 0.3611\n",
      "Epoch 86/100\n",
      "33/33 [==============================] - 0s 3ms/step - loss: 0.7194 - accuracy: 0.6049 - val_loss: 0.8340 - val_accuracy: 0.3611\n",
      "Epoch 87/100\n",
      "33/33 [==============================] - 0s 4ms/step - loss: 0.7185 - accuracy: 0.5957 - val_loss: 0.8272 - val_accuracy: 0.3889\n",
      "Epoch 88/100\n",
      "33/33 [==============================] - 0s 4ms/step - loss: 0.7163 - accuracy: 0.6049 - val_loss: 0.8338 - val_accuracy: 0.3611\n",
      "Epoch 89/100\n",
      "33/33 [==============================] - 0s 3ms/step - loss: 0.7188 - accuracy: 0.5926 - val_loss: 0.8320 - val_accuracy: 0.3333\n",
      "Epoch 90/100\n",
      "33/33 [==============================] - 0s 3ms/step - loss: 0.7166 - accuracy: 0.6049 - val_loss: 0.8348 - val_accuracy: 0.3333\n",
      "Epoch 91/100\n",
      "33/33 [==============================] - 0s 4ms/step - loss: 0.7183 - accuracy: 0.5741 - val_loss: 0.8283 - val_accuracy: 0.3611\n",
      "Epoch 92/100\n",
      "33/33 [==============================] - 0s 4ms/step - loss: 0.7226 - accuracy: 0.6265 - val_loss: 0.8271 - val_accuracy: 0.3333\n",
      "Epoch 93/100\n",
      "33/33 [==============================] - 0s 3ms/step - loss: 0.7186 - accuracy: 0.5895 - val_loss: 0.8362 - val_accuracy: 0.3611\n",
      "Epoch 94/100\n",
      "33/33 [==============================] - 0s 3ms/step - loss: 0.7218 - accuracy: 0.5926 - val_loss: 0.8365 - val_accuracy: 0.3611\n",
      "Epoch 95/100\n",
      "33/33 [==============================] - 0s 3ms/step - loss: 0.7138 - accuracy: 0.5957 - val_loss: 0.8320 - val_accuracy: 0.3333\n",
      "Epoch 96/100\n",
      "33/33 [==============================] - 0s 3ms/step - loss: 0.7160 - accuracy: 0.6080 - val_loss: 0.8502 - val_accuracy: 0.3611\n",
      "Epoch 97/100\n",
      "33/33 [==============================] - 0s 3ms/step - loss: 0.7138 - accuracy: 0.6204 - val_loss: 0.8415 - val_accuracy: 0.3333\n",
      "Epoch 98/100\n",
      "33/33 [==============================] - 0s 4ms/step - loss: 0.7120 - accuracy: 0.6019 - val_loss: 0.8364 - val_accuracy: 0.3333\n",
      "Epoch 99/100\n",
      "33/33 [==============================] - 0s 3ms/step - loss: 0.7158 - accuracy: 0.6019 - val_loss: 0.8478 - val_accuracy: 0.3889\n",
      "Epoch 100/100\n",
      "33/33 [==============================] - 0s 4ms/step - loss: 0.7119 - accuracy: 0.6235 - val_loss: 0.8310 - val_accuracy: 0.3611\n"
     ]
    }
   ],
   "source": [
    "history=fmodel.fit(x_trainp,y_train,batch_size=10,epochs=100,validation_split=0.1)"
   ]
  },
  {
   "cell_type": "code",
   "execution_count": 74,
   "id": "4f0079d9",
   "metadata": {},
   "outputs": [
    {
     "data": {
      "text/plain": [
       "<matplotlib.legend.Legend at 0x2b5ff9274c0>"
      ]
     },
     "execution_count": 74,
     "metadata": {},
     "output_type": "execute_result"
    },
    {
     "data": {
      "image/png": "[encoded data removed]",
      "text/plain": [
       "<Figure size 640x480 with 1 Axes>"
      ]
     },
     "metadata": {},
     "output_type": "display_data"
    }
   ],
   "source": [
    "plt.plot(range(1,101),history.history[\"loss\"],label=\"train_loss\")\n",
    "plt.plot(range(1,101),history.history[\"val_loss\"],label=\"val_loss\")\n",
    "plt.legend()"
   ]
  },
  {
   "cell_type": "code",
   "execution_count": 75,
   "id": "4ed1bc2e",
   "metadata": {
    "scrolled": true
   },
   "outputs": [
    {
     "data": {
      "text/plain": [
       "[0.8431157469749451,\n",
       " 0.8415531516075134,\n",
       " 0.8418006896972656,\n",
       " 0.8350013494491577,\n",
       " 0.8333761692047119,\n",
       " 0.8329136371612549,\n",
       " 0.8343055248260498,\n",
       " 0.8222848773002625,\n",
       " 0.82851243019104,\n",
       " 0.8291352391242981,\n",
       " 0.8301980495452881,\n",
       " 0.8311305642127991,\n",
       " 0.8211072087287903,\n",
       " 0.8159892559051514,\n",
       " 0.8169591426849365,\n",
       " 0.8183806538581848,\n",
       " 0.8118746876716614,\n",
       " 0.8117576241493225,\n",
       " 0.813214123249054,\n",
       " 0.8141052722930908,\n",
       " 0.8108252286911011,\n",
       " 0.8079403042793274,\n",
       " 0.8174191117286682,\n",
       " 0.8091411590576172,\n",
       " 0.810451865196228,\n",
       " 0.8105751872062683,\n",
       " 0.8131835460662842,\n",
       " 0.8125308156013489,\n",
       " 0.8045681715011597,\n",
       " 0.8134338855743408,\n",
       " 0.8060733675956726,\n",
       " 0.8157684803009033,\n",
       " 0.8128377795219421,\n",
       " 0.8124411702156067,\n",
       " 0.8072593212127686,\n",
       " 0.8128955960273743,\n",
       " 0.8164791464805603,\n",
       " 0.8204818367958069,\n",
       " 0.8104648590087891,\n",
       " 0.8081347942352295,\n",
       " 0.8097565770149231,\n",
       " 0.8151167035102844,\n",
       " 0.8121823072433472,\n",
       " 0.8118612766265869,\n",
       " 0.8223460912704468,\n",
       " 0.8157215714454651,\n",
       " 0.8214419484138489,\n",
       " 0.8189943432807922,\n",
       " 0.81118243932724,\n",
       " 0.8132198452949524,\n",
       " 0.8150098919868469,\n",
       " 0.817789614200592,\n",
       " 0.8178194761276245,\n",
       " 0.8220643997192383,\n",
       " 0.8193013668060303,\n",
       " 0.816354513168335,\n",
       " 0.8167720437049866,\n",
       " 0.8248460292816162,\n",
       " 0.8304610848426819,\n",
       " 0.821830689907074,\n",
       " 0.8324782848358154,\n",
       " 0.8198686242103577,\n",
       " 0.8245657086372375,\n",
       " 0.818149745464325,\n",
       " 0.822987973690033,\n",
       " 0.8294317126274109,\n",
       " 0.8279688358306885,\n",
       " 0.8260855078697205,\n",
       " 0.8260990977287292,\n",
       " 0.8233975172042847,\n",
       " 0.8205822110176086,\n",
       " 0.8271058201789856,\n",
       " 0.8223522901535034,\n",
       " 0.8274792432785034,\n",
       " 0.8254523277282715,\n",
       " 0.8250173926353455,\n",
       " 0.8315141201019287,\n",
       " 0.8321141600608826,\n",
       " 0.8264415860176086,\n",
       " 0.8297646641731262,\n",
       " 0.8346638679504395,\n",
       " 0.8300014138221741,\n",
       " 0.8426125645637512,\n",
       " 0.8409277200698853,\n",
       " 0.8347169756889343,\n",
       " 0.8339616060256958,\n",
       " 0.8271920680999756,\n",
       " 0.8337727785110474,\n",
       " 0.8320223689079285,\n",
       " 0.8347733020782471,\n",
       " 0.8283442854881287,\n",
       " 0.8270753622055054,\n",
       " 0.8362271189689636,\n",
       " 0.8364928364753723,\n",
       " 0.832019567489624,\n",
       " 0.8502157926559448,\n",
       " 0.8415411710739136,\n",
       " 0.8364450931549072,\n",
       " 0.8477804660797119,\n",
       " 0.8309667110443115]"
      ]
     },
     "execution_count": 75,
     "metadata": {},
     "output_type": "execute_result"
    }
   ],
   "source": [
    "history.history['val_loss']"
   ]
  },
  {
   "cell_type": "code",
   "execution_count": 76,
   "id": "9ab2a0c0",
   "metadata": {},
   "outputs": [
    {
     "name": "stdout",
     "output_type": "stream",
     "text": [
      "2/2 [==============================] - 0s 3ms/step\n"
     ]
    }
   ],
   "source": [
    "predicted=fmodel.predict(x_test)"
   ]
  },
  {
   "cell_type": "code",
   "execution_count": 77,
   "id": "f03b6330",
   "metadata": {},
   "outputs": [],
   "source": [
    "predicted=np.where(predicted>0.5,1,0)"
   ]
  },
  {
   "cell_type": "code",
   "execution_count": 78,
   "id": "983673b8",
   "metadata": {},
   "outputs": [
    {
     "data": {
      "text/plain": [
       "0.65"
      ]
     },
     "execution_count": 78,
     "metadata": {},
     "output_type": "execute_result"
    }
   ],
   "source": [
    "accuracy_score(y_test,predicted)"
   ]
  },
  {
   "cell_type": "code",
   "execution_count": 79,
   "id": "0649d0bb",
   "metadata": {},
   "outputs": [
    {
     "data": {
      "text/plain": [
       "array([[ 0, 14],\n",
       "       [ 0, 26]], dtype=int64)"
      ]
     },
     "execution_count": 79,
     "metadata": {},
     "output_type": "execute_result"
    }
   ],
   "source": [
    "confusion_matrix(y_test,predicted)"
   ]
  },
  {
   "cell_type": "code",
   "execution_count": 80,
   "id": "287a785d",
   "metadata": {},
   "outputs": [
    {
     "data": {
      "image/png": "[encoded data removed]",
      "text/plain": [
       "<Figure size 640x480 with 2 Axes>"
      ]
     },
     "metadata": {},
     "output_type": "display_data"
    }
   ],
   "source": [
    "\n",
    "cm = confusion_matrix(y_test,predicted)\n",
    "va = ConfusionMatrixDisplay(cm)\n",
    "va.plot()\n",
    "plt.show()"
   ]
  },
  {
   "cell_type": "code",
   "execution_count": 81,
   "id": "577e4979",
   "metadata": {},
   "outputs": [
    {
     "name": "stdout",
     "output_type": "stream",
     "text": [
      "9600/9600 [==============================] - 18s 2ms/step\n"
     ]
    },
    {
     "data": {
      "text/plain": [
       "<AxesSubplot:>"
      ]
     },
     "execution_count": 81,
     "metadata": {},
     "output_type": "execute_result"
    },
    {
     "data": {
      "image/png": "[encoded data removed]",
      "text/plain": [
       "<Figure size 640x480 with 1 Axes>"
      ]
     },
     "metadata": {},
     "output_type": "display_data"
    }
   ],
   "source": [
    "y_train_int = y_train.values.astype(int)\n",
    "plot_decision_regions(x_trainp, y_train_int, clf=fmodel)"
   ]
  },
  {
   "cell_type": "code",
   "execution_count": 51,
   "id": "7f8df217",
   "metadata": {},
   "outputs": [],
   "source": [
    "y_test_int = y_test.values.astype(int)"
   ]
  },
  {
   "cell_type": "code",
   "execution_count": 52,
   "id": "38b8c1e4",
   "metadata": {},
   "outputs": [
    {
     "name": "stdout",
     "output_type": "stream",
     "text": [
      "9600/9600 [==============================] - 15s 2ms/step\n"
     ]
    },
    {
     "data": {
      "text/plain": [
       "<AxesSubplot:>"
      ]
     },
     "execution_count": 52,
     "metadata": {},
     "output_type": "execute_result"
    },
    {
     "data": {
      "image/png": "[encoded data removed]",
      "text/plain": [
       "<Figure size 640x480 with 1 Axes>"
      ]
     },
     "metadata": {},
     "output_type": "display_data"
    }
   ],
   "source": [
    "\n",
    "plot_decision_regions(x_testp,y_test_int,clf=fmodel)"
   ]
  },
  {
   "cell_type": "code",
   "execution_count": null,
   "id": "bd9714c1",
   "metadata": {},
   "outputs": [],
   "source": []
  }
 ],
 "metadata": {
  "kernelspec": {
   "display_name": "Python 3 (ipykernel)",
   "language": "python",
   "name": "python3"
  },
  "language_info": {
   "codemirror_mode": {
    "name": "ipython",
    "version": 3
   },
   "file_extension": ".py",
   "mimetype": "text/x-python",
   "name": "python",
   "nbconvert_exporter": "python",
   "pygments_lexer": "ipython3",
   "version": "3.9.13"
  }
 },
 "nbformat": 4,
 "nbformat_minor": 5
}
