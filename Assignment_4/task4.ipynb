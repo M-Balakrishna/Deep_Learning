{
 "cells": [
  {
   "cell_type": "code",
   "execution_count": 1,
   "id": "4264161a",
   "metadata": {},
   "outputs": [
    {
     "name": "stdout",
     "output_type": "stream",
     "text": [
      "Using TensorFlow backend\n"
     ]
    }
   ],
   "source": [
    "import pandas as pd\n",
    "import numpy as np\n",
    "import keras\n",
    "\n",
    "from sklearn.model_selection import train_test_split\n",
    "#i#mport imblearn\n",
    "#from imblearn.over_sampling import SMOTE\n",
    "from keras import Sequential\n",
    "from keras.layers import Dense,Dropout,BatchNormalization,Input\n",
    "import matplotlib.pyplot as plt\n",
    "\n",
    "from sklearn.metrics import accuracy_score\n",
    "from sklearn.metrics import confusion_matrix\n",
    "import keras_tuner as k\n",
    "from hyperopt import fmin, tpe, Trials\n",
    "from keras import Sequential\n",
    "from keras.layers import Dense\n",
    "#pip install keras-tuner --upgrade\n",
    "#pip install hyperopt\n",
    "from sklearn.metrics import accuracy_score\n",
    "from sklearn.metrics import confusion_matrix\n",
    "from sklearn.metrics import confusion_matrix,ConfusionMatrixDisplay\n",
    "from mlxtend.plotting  import plot_decision_regions "
   ]
  },
  {
   "cell_type": "code",
   "execution_count": 2,
   "id": "28ebb2d6",
   "metadata": {},
   "outputs": [],
   "source": [
    "df=pd.read_csv(\"4.linearsep.csv\",header=None)"
   ]
  },
  {
   "cell_type": "code",
   "execution_count": 4,
   "id": "3bed218a",
   "metadata": {
    "scrolled": true
   },
   "outputs": [
    {
     "data": {
      "text/plain": [
       "(100, 3)"
      ]
     },
     "execution_count": 4,
     "metadata": {},
     "output_type": "execute_result"
    }
   ],
   "source": [
    "df.shape"
   ]
  },
  {
   "cell_type": "code",
   "execution_count": 5,
   "id": "4d504f0c",
   "metadata": {},
   "outputs": [
    {
     "data": {
      "text/plain": [
       "0    0\n",
       "1    0\n",
       "2    0\n",
       "dtype: int64"
      ]
     },
     "execution_count": 5,
     "metadata": {},
     "output_type": "execute_result"
    }
   ],
   "source": [
    "df.isnull().sum()"
   ]
  },
  {
   "cell_type": "code",
   "execution_count": 6,
   "id": "14cccef3",
   "metadata": {},
   "outputs": [],
   "source": [
    "x=df.iloc[0:,:2]"
   ]
  },
  {
   "cell_type": "code",
   "execution_count": 7,
   "id": "88901100",
   "metadata": {},
   "outputs": [],
   "source": [
    "y=df.iloc[0:,2]"
   ]
  },
  {
   "cell_type": "code",
   "execution_count": 8,
   "id": "e08f57e8",
   "metadata": {
    "scrolled": true
   },
   "outputs": [
    {
     "data": {
      "text/html": [
       "<div>\n",
       "<style scoped>\n",
       "    .dataframe tbody tr th:only-of-type {\n",
       "        vertical-align: middle;\n",
       "    }\n",
       "\n",
       "    .dataframe tbody tr th {\n",
       "        vertical-align: top;\n",
       "    }\n",
       "\n",
       "    .dataframe thead th {\n",
       "        text-align: right;\n",
       "    }\n",
       "</style>\n",
       "<table border=\"1\" class=\"dataframe\">\n",
       "  <thead>\n",
       "    <tr style=\"text-align: right;\">\n",
       "      <th></th>\n",
       "      <th>0</th>\n",
       "      <th>1</th>\n",
       "    </tr>\n",
       "  </thead>\n",
       "  <tbody>\n",
       "    <tr>\n",
       "      <th>0</th>\n",
       "      <td>-0.177497</td>\n",
       "      <td>0.930496</td>\n",
       "    </tr>\n",
       "    <tr>\n",
       "      <th>1</th>\n",
       "      <td>1.977424</td>\n",
       "      <td>1.766155</td>\n",
       "    </tr>\n",
       "    <tr>\n",
       "      <th>2</th>\n",
       "      <td>1.800024</td>\n",
       "      <td>1.700343</td>\n",
       "    </tr>\n",
       "    <tr>\n",
       "      <th>3</th>\n",
       "      <td>-0.770837</td>\n",
       "      <td>2.359163</td>\n",
       "    </tr>\n",
       "    <tr>\n",
       "      <th>4</th>\n",
       "      <td>-0.308009</td>\n",
       "      <td>1.594063</td>\n",
       "    </tr>\n",
       "    <tr>\n",
       "      <th>...</th>\n",
       "      <td>...</td>\n",
       "      <td>...</td>\n",
       "    </tr>\n",
       "    <tr>\n",
       "      <th>95</th>\n",
       "      <td>2.632382</td>\n",
       "      <td>1.271305</td>\n",
       "    </tr>\n",
       "    <tr>\n",
       "      <th>96</th>\n",
       "      <td>-0.040256</td>\n",
       "      <td>1.782708</td>\n",
       "    </tr>\n",
       "    <tr>\n",
       "      <th>97</th>\n",
       "      <td>-0.787453</td>\n",
       "      <td>1.400357</td>\n",
       "    </tr>\n",
       "    <tr>\n",
       "      <th>98</th>\n",
       "      <td>2.702441</td>\n",
       "      <td>1.587444</td>\n",
       "    </tr>\n",
       "    <tr>\n",
       "      <th>99</th>\n",
       "      <td>1.290969</td>\n",
       "      <td>2.751937</td>\n",
       "    </tr>\n",
       "  </tbody>\n",
       "</table>\n",
       "<p>100 rows × 2 columns</p>\n",
       "</div>"
      ],
      "text/plain": [
       "           0         1\n",
       "0  -0.177497  0.930496\n",
       "1   1.977424  1.766155\n",
       "2   1.800024  1.700343\n",
       "3  -0.770837  2.359163\n",
       "4  -0.308009  1.594063\n",
       "..       ...       ...\n",
       "95  2.632382  1.271305\n",
       "96 -0.040256  1.782708\n",
       "97 -0.787453  1.400357\n",
       "98  2.702441  1.587444\n",
       "99  1.290969  2.751937\n",
       "\n",
       "[100 rows x 2 columns]"
      ]
     },
     "execution_count": 8,
     "metadata": {},
     "output_type": "execute_result"
    }
   ],
   "source": [
    "x"
   ]
  },
  {
   "cell_type": "code",
   "execution_count": 9,
   "id": "b8f74b1f",
   "metadata": {},
   "outputs": [
    {
     "data": {
      "text/plain": [
       "0"
      ]
     },
     "execution_count": 9,
     "metadata": {},
     "output_type": "execute_result"
    }
   ],
   "source": [
    "df.duplicated().sum()"
   ]
  },
  {
   "cell_type": "code",
   "execution_count": 10,
   "id": "602fc1a5",
   "metadata": {},
   "outputs": [],
   "source": [
    "x_train,x_test,y_train,y_test=train_test_split(x,y,test_size=0.10)"
   ]
  },
  {
   "cell_type": "code",
   "execution_count": 11,
   "id": "6068684c",
   "metadata": {},
   "outputs": [
    {
     "data": {
      "text/plain": [
       "90"
      ]
     },
     "execution_count": 11,
     "metadata": {},
     "output_type": "execute_result"
    }
   ],
   "source": [
    "x_train.value_counts().sum()"
   ]
  },
  {
   "cell_type": "code",
   "execution_count": 12,
   "id": "f5f710e9",
   "metadata": {},
   "outputs": [
    {
     "data": {
      "text/plain": [
       "1.0    46\n",
       "0.0    44\n",
       "Name: 2, dtype: int64"
      ]
     },
     "execution_count": 12,
     "metadata": {},
     "output_type": "execute_result"
    }
   ],
   "source": [
    "y_train.value_counts()"
   ]
  },
  {
   "cell_type": "code",
   "execution_count": 13,
   "id": "72966cb2",
   "metadata": {},
   "outputs": [],
   "source": [
    "from sklearn.preprocessing import StandardScaler\n",
    "std = StandardScaler()\n",
    "x_trainp = std.fit_transform(x_train)\n",
    "x_testp = std.transform(x_test)"
   ]
  },
  {
   "cell_type": "code",
   "execution_count": 14,
   "id": "65244513",
   "metadata": {},
   "outputs": [],
   "source": [
    "trials = Trials()"
   ]
  },
  {
   "cell_type": "code",
   "execution_count": 15,
   "id": "3c020ef0",
   "metadata": {},
   "outputs": [],
   "source": [
    "from keras.regularizers import L1,L2,L1L2"
   ]
  },
  {
   "cell_type": "code",
   "execution_count": 35,
   "id": "56abbc65",
   "metadata": {},
   "outputs": [],
   "source": [
    "def modellss(hp):\n",
    "    model=Sequential()\n",
    "    model.add(Input(shape=(2,)))\n",
    "    \n",
    "    for i in range(hp.Int(\"hiddenlayers\",min_value=5,max_value=10)):\n",
    "                model.add(Dense(units=hp.Int(\"neurons{}\".format(i),min_value=1,max_value=10),activation=\"tanh\",kernel_regularizer=L2(0.001),bias_regularizer=L2(0.001),kernel_initializer=\"he_normal\"))\n",
    "\n",
    "                    \n",
    "                \n",
    "    model.add(Dense(1,activation=\"sigmoid\"))\n",
    "    model.compile(loss='binary_crossentropy',optimizer='sgd', metrics=['accuracy'])\n",
    "    return model"
   ]
  },
  {
   "cell_type": "code",
   "execution_count": 36,
   "id": "971ed702",
   "metadata": {},
   "outputs": [],
   "source": [
    "tuner=k.RandomSearch(modellss,objective=\"val_accuracy\",max_trials=25,directory=\"C:\\\\Users\\\\admin\\\\main\\\\folder4\",project_name=\"f2\")"
   ]
  },
  {
   "cell_type": "code",
   "execution_count": 37,
   "id": "86597806",
   "metadata": {
    "scrolled": true
   },
   "outputs": [
    {
     "name": "stdout",
     "output_type": "stream",
     "text": [
      "Trial 25 Complete [00h 00m 12s]\n",
      "val_accuracy: 0.8999999761581421\n",
      "\n",
      "Best val_accuracy So Far: 1.0\n",
      "Total elapsed time: 00h 04m 32s\n"
     ]
    }
   ],
   "source": [
    "tuner.search(x_trainp,y_train,epochs=100,validation_data=(x_test,y_test))"
   ]
  },
  {
   "cell_type": "code",
   "execution_count": 38,
   "id": "fc3f1b7b",
   "metadata": {},
   "outputs": [
    {
     "name": "stdout",
     "output_type": "stream",
     "text": [
      "Results summary\n",
      "Results in C:\\Users\\admin\\main\\folder4\\f2\n",
      "Showing 10 best trials\n",
      "Objective(name=\"val_accuracy\", direction=\"max\")\n",
      "\n",
      "Trial 00 summary\n",
      "Hyperparameters:\n",
      "hiddenlayers: 9\n",
      "neurons0: 9\n",
      "neurons1: 1\n",
      "neurons2: 9\n",
      "neurons3: 2\n",
      "neurons4: 1\n",
      "neurons5: 1\n",
      "neurons6: 1\n",
      "neurons7: 1\n",
      "neurons8: 1\n",
      "Score: 1.0\n",
      "\n",
      "Trial 01 summary\n",
      "Hyperparameters:\n",
      "hiddenlayers: 10\n",
      "neurons0: 5\n",
      "neurons1: 3\n",
      "neurons2: 5\n",
      "neurons3: 6\n",
      "neurons4: 6\n",
      "neurons5: 10\n",
      "neurons6: 1\n",
      "neurons7: 2\n",
      "neurons8: 9\n",
      "neurons9: 1\n",
      "Score: 1.0\n",
      "\n",
      "Trial 04 summary\n",
      "Hyperparameters:\n",
      "hiddenlayers: 9\n",
      "neurons0: 1\n",
      "neurons1: 7\n",
      "neurons2: 9\n",
      "neurons3: 6\n",
      "neurons4: 9\n",
      "neurons5: 1\n",
      "neurons6: 1\n",
      "neurons7: 5\n",
      "neurons8: 8\n",
      "neurons9: 9\n",
      "Score: 1.0\n",
      "\n",
      "Trial 05 summary\n",
      "Hyperparameters:\n",
      "hiddenlayers: 7\n",
      "neurons0: 1\n",
      "neurons1: 4\n",
      "neurons2: 2\n",
      "neurons3: 10\n",
      "neurons4: 2\n",
      "neurons5: 7\n",
      "neurons6: 10\n",
      "neurons7: 3\n",
      "neurons8: 8\n",
      "neurons9: 3\n",
      "Score: 1.0\n",
      "\n",
      "Trial 06 summary\n",
      "Hyperparameters:\n",
      "hiddenlayers: 10\n",
      "neurons0: 9\n",
      "neurons1: 10\n",
      "neurons2: 4\n",
      "neurons3: 9\n",
      "neurons4: 4\n",
      "neurons5: 3\n",
      "neurons6: 9\n",
      "neurons7: 3\n",
      "neurons8: 8\n",
      "neurons9: 9\n",
      "Score: 1.0\n",
      "\n",
      "Trial 07 summary\n",
      "Hyperparameters:\n",
      "hiddenlayers: 5\n",
      "neurons0: 2\n",
      "neurons1: 4\n",
      "neurons2: 3\n",
      "neurons3: 9\n",
      "neurons4: 4\n",
      "neurons5: 1\n",
      "neurons6: 3\n",
      "neurons7: 10\n",
      "neurons8: 4\n",
      "neurons9: 10\n",
      "Score: 1.0\n",
      "\n",
      "Trial 09 summary\n",
      "Hyperparameters:\n",
      "hiddenlayers: 8\n",
      "neurons0: 2\n",
      "neurons1: 7\n",
      "neurons2: 9\n",
      "neurons3: 7\n",
      "neurons4: 7\n",
      "neurons5: 2\n",
      "neurons6: 3\n",
      "neurons7: 6\n",
      "neurons8: 8\n",
      "neurons9: 8\n",
      "Score: 1.0\n",
      "\n",
      "Trial 10 summary\n",
      "Hyperparameters:\n",
      "hiddenlayers: 7\n",
      "neurons0: 4\n",
      "neurons1: 1\n",
      "neurons2: 1\n",
      "neurons3: 5\n",
      "neurons4: 5\n",
      "neurons5: 2\n",
      "neurons6: 5\n",
      "neurons7: 1\n",
      "neurons8: 9\n",
      "neurons9: 7\n",
      "Score: 1.0\n",
      "\n",
      "Trial 11 summary\n",
      "Hyperparameters:\n",
      "hiddenlayers: 8\n",
      "neurons0: 8\n",
      "neurons1: 9\n",
      "neurons2: 9\n",
      "neurons3: 4\n",
      "neurons4: 3\n",
      "neurons5: 3\n",
      "neurons6: 3\n",
      "neurons7: 8\n",
      "neurons8: 4\n",
      "neurons9: 3\n",
      "Score: 1.0\n",
      "\n",
      "Trial 12 summary\n",
      "Hyperparameters:\n",
      "hiddenlayers: 6\n",
      "neurons0: 1\n",
      "neurons1: 4\n",
      "neurons2: 10\n",
      "neurons3: 8\n",
      "neurons4: 7\n",
      "neurons5: 7\n",
      "neurons6: 7\n",
      "neurons7: 4\n",
      "neurons8: 9\n",
      "neurons9: 9\n",
      "Score: 1.0\n"
     ]
    }
   ],
   "source": [
    "tuner.results_summary()"
   ]
  },
  {
   "cell_type": "code",
   "execution_count": 39,
   "id": "35ddbf86",
   "metadata": {
    "scrolled": false
   },
   "outputs": [
    {
     "data": {
      "text/plain": [
       "{'hiddenlayers': 9,\n",
       " 'neurons0': 9,\n",
       " 'neurons1': 1,\n",
       " 'neurons2': 9,\n",
       " 'neurons3': 2,\n",
       " 'neurons4': 1,\n",
       " 'neurons5': 1,\n",
       " 'neurons6': 1,\n",
       " 'neurons7': 1,\n",
       " 'neurons8': 1}"
      ]
     },
     "execution_count": 39,
     "metadata": {},
     "output_type": "execute_result"
    }
   ],
   "source": [
    "tuner.get_best_hyperparameters()[0].values"
   ]
  },
  {
   "cell_type": "code",
   "execution_count": 40,
   "id": "477f2c1f",
   "metadata": {},
   "outputs": [],
   "source": [
    "fmodel = tuner.get_best_models(num_models=1)[0]"
   ]
  },
  {
   "cell_type": "code",
   "execution_count": 41,
   "id": "4ea7b589",
   "metadata": {},
   "outputs": [
    {
     "name": "stdout",
     "output_type": "stream",
     "text": [
      "Model: \"sequential\"\n",
      "_________________________________________________________________\n",
      " Layer (type)                Output Shape              Param #   \n",
      "=================================================================\n",
      " dense (Dense)               (None, 9)                 27        \n",
      "                                                                 \n",
      " dense_1 (Dense)             (None, 1)                 10        \n",
      "                                                                 \n",
      " dense_2 (Dense)             (None, 9)                 18        \n",
      "                                                                 \n",
      " dense_3 (Dense)             (None, 2)                 20        \n",
      "                                                                 \n",
      " dense_4 (Dense)             (None, 1)                 3         \n",
      "                                                                 \n",
      " dense_5 (Dense)             (None, 1)                 2         \n",
      "                                                                 \n",
      " dense_6 (Dense)             (None, 1)                 2         \n",
      "                                                                 \n",
      " dense_7 (Dense)             (None, 1)                 2         \n",
      "                                                                 \n",
      " dense_8 (Dense)             (None, 1)                 2         \n",
      "                                                                 \n",
      " dense_9 (Dense)             (None, 1)                 2         \n",
      "                                                                 \n",
      "=================================================================\n",
      "Total params: 88 (352.00 Byte)\n",
      "Trainable params: 88 (352.00 Byte)\n",
      "Non-trainable params: 0 (0.00 Byte)\n",
      "_________________________________________________________________\n"
     ]
    }
   ],
   "source": [
    "fmodel.summary()"
   ]
  },
  {
   "cell_type": "code",
   "execution_count": 42,
   "id": "73732470",
   "metadata": {},
   "outputs": [
    {
     "name": "stdout",
     "output_type": "stream",
     "text": [
      "Epoch 1/100\n",
      "9/9 [==============================] - 3s 69ms/step - loss: 0.4917 - accuracy: 0.9136 - val_loss: 0.5041 - val_accuracy: 0.8889\n",
      "Epoch 2/100\n",
      "9/9 [==============================] - 0s 9ms/step - loss: 0.4841 - accuracy: 0.9136 - val_loss: 0.4931 - val_accuracy: 0.8889\n",
      "Epoch 3/100\n",
      "9/9 [==============================] - 0s 9ms/step - loss: 0.4780 - accuracy: 0.9136 - val_loss: 0.4869 - val_accuracy: 0.8889\n",
      "Epoch 4/100\n",
      "9/9 [==============================] - 0s 9ms/step - loss: 0.4731 - accuracy: 0.9136 - val_loss: 0.4791 - val_accuracy: 0.8889\n",
      "Epoch 5/100\n",
      "9/9 [==============================] - 0s 8ms/step - loss: 0.4687 - accuracy: 0.9136 - val_loss: 0.4741 - val_accuracy: 0.8889\n",
      "Epoch 6/100\n",
      "9/9 [==============================] - 0s 13ms/step - loss: 0.4644 - accuracy: 0.9136 - val_loss: 0.4673 - val_accuracy: 0.8889\n",
      "Epoch 7/100\n",
      "9/9 [==============================] - 0s 8ms/step - loss: 0.4606 - accuracy: 0.9136 - val_loss: 0.4521 - val_accuracy: 0.8889\n",
      "Epoch 8/100\n",
      "9/9 [==============================] - 0s 7ms/step - loss: 0.4570 - accuracy: 0.9136 - val_loss: 0.4459 - val_accuracy: 0.8889\n",
      "Epoch 9/100\n",
      "9/9 [==============================] - 0s 6ms/step - loss: 0.4537 - accuracy: 0.9136 - val_loss: 0.4420 - val_accuracy: 0.8889\n",
      "Epoch 10/100\n",
      "9/9 [==============================] - 0s 8ms/step - loss: 0.4506 - accuracy: 0.9136 - val_loss: 0.4364 - val_accuracy: 0.8889\n",
      "Epoch 11/100\n",
      "9/9 [==============================] - 0s 8ms/step - loss: 0.4476 - accuracy: 0.9136 - val_loss: 0.4310 - val_accuracy: 0.8889\n",
      "Epoch 12/100\n",
      "9/9 [==============================] - 0s 7ms/step - loss: 0.4448 - accuracy: 0.9136 - val_loss: 0.4241 - val_accuracy: 0.8889\n",
      "Epoch 13/100\n",
      "9/9 [==============================] - 0s 7ms/step - loss: 0.4437 - accuracy: 0.9136 - val_loss: 0.4208 - val_accuracy: 0.8889\n",
      "Epoch 14/100\n",
      "9/9 [==============================] - 0s 8ms/step - loss: 0.4410 - accuracy: 0.9136 - val_loss: 0.4156 - val_accuracy: 0.8889\n",
      "Epoch 15/100\n",
      "9/9 [==============================] - 0s 7ms/step - loss: 0.4385 - accuracy: 0.9136 - val_loss: 0.4118 - val_accuracy: 0.8889\n",
      "Epoch 16/100\n",
      "9/9 [==============================] - 0s 8ms/step - loss: 0.4362 - accuracy: 0.9136 - val_loss: 0.4087 - val_accuracy: 0.8889\n",
      "Epoch 17/100\n",
      "9/9 [==============================] - 0s 7ms/step - loss: 0.4338 - accuracy: 0.9136 - val_loss: 0.4060 - val_accuracy: 0.8889\n",
      "Epoch 18/100\n",
      "9/9 [==============================] - 0s 7ms/step - loss: 0.4329 - accuracy: 0.9136 - val_loss: 0.4012 - val_accuracy: 0.8889\n",
      "Epoch 19/100\n",
      "9/9 [==============================] - 0s 20ms/step - loss: 0.4307 - accuracy: 0.9136 - val_loss: 0.3888 - val_accuracy: 0.8889\n",
      "Epoch 20/100\n",
      "9/9 [==============================] - 0s 28ms/step - loss: 0.4286 - accuracy: 0.9136 - val_loss: 0.3856 - val_accuracy: 0.8889\n",
      "Epoch 21/100\n",
      "9/9 [==============================] - 0s 25ms/step - loss: 0.4265 - accuracy: 0.9136 - val_loss: 0.3827 - val_accuracy: 0.8889\n",
      "Epoch 22/100\n",
      "9/9 [==============================] - 0s 25ms/step - loss: 0.4246 - accuracy: 0.9136 - val_loss: 0.3798 - val_accuracy: 0.8889\n",
      "Epoch 23/100\n",
      "9/9 [==============================] - 0s 25ms/step - loss: 0.4227 - accuracy: 0.9136 - val_loss: 0.3767 - val_accuracy: 0.8889\n",
      "Epoch 24/100\n",
      "9/9 [==============================] - 0s 25ms/step - loss: 0.4209 - accuracy: 0.9136 - val_loss: 0.3720 - val_accuracy: 0.8889\n",
      "Epoch 25/100\n",
      "9/9 [==============================] - 0s 26ms/step - loss: 0.4191 - accuracy: 0.9136 - val_loss: 0.3673 - val_accuracy: 0.8889\n",
      "Epoch 26/100\n",
      "9/9 [==============================] - 0s 25ms/step - loss: 0.4174 - accuracy: 0.9136 - val_loss: 0.3626 - val_accuracy: 0.8889\n",
      "Epoch 27/100\n",
      "9/9 [==============================] - 0s 27ms/step - loss: 0.4158 - accuracy: 0.9136 - val_loss: 0.3595 - val_accuracy: 0.8889\n",
      "Epoch 28/100\n",
      "9/9 [==============================] - 0s 27ms/step - loss: 0.4142 - accuracy: 0.9136 - val_loss: 0.3548 - val_accuracy: 0.8889\n",
      "Epoch 29/100\n",
      "9/9 [==============================] - 0s 24ms/step - loss: 0.4125 - accuracy: 0.9136 - val_loss: 0.3502 - val_accuracy: 0.8889\n",
      "Epoch 30/100\n",
      "9/9 [==============================] - 0s 7ms/step - loss: 0.4110 - accuracy: 0.9136 - val_loss: 0.3471 - val_accuracy: 0.8889\n",
      "Epoch 31/100\n",
      "9/9 [==============================] - 0s 6ms/step - loss: 0.4096 - accuracy: 0.9136 - val_loss: 0.3424 - val_accuracy: 1.0000\n",
      "Epoch 32/100\n",
      "9/9 [==============================] - 0s 7ms/step - loss: 0.4082 - accuracy: 0.9136 - val_loss: 0.3412 - val_accuracy: 1.0000\n",
      "Epoch 33/100\n",
      "9/9 [==============================] - 0s 8ms/step - loss: 0.4078 - accuracy: 0.9136 - val_loss: 0.3369 - val_accuracy: 1.0000\n",
      "Epoch 34/100\n",
      "9/9 [==============================] - 0s 7ms/step - loss: 0.4064 - accuracy: 0.9136 - val_loss: 0.3289 - val_accuracy: 1.0000\n",
      "Epoch 35/100\n",
      "9/9 [==============================] - 0s 8ms/step - loss: 0.4052 - accuracy: 0.9136 - val_loss: 0.3507 - val_accuracy: 0.8889\n",
      "Epoch 36/100\n",
      "9/9 [==============================] - 0s 6ms/step - loss: 0.4039 - accuracy: 0.9136 - val_loss: 0.3452 - val_accuracy: 0.8889\n",
      "Epoch 37/100\n",
      "9/9 [==============================] - 0s 7ms/step - loss: 0.4026 - accuracy: 0.9136 - val_loss: 0.3386 - val_accuracy: 0.8889\n",
      "Epoch 38/100\n",
      "9/9 [==============================] - 0s 8ms/step - loss: 0.4014 - accuracy: 0.9136 - val_loss: 0.3324 - val_accuracy: 0.8889\n",
      "Epoch 39/100\n",
      "9/9 [==============================] - 0s 7ms/step - loss: 0.4001 - accuracy: 0.9136 - val_loss: 0.3273 - val_accuracy: 1.0000\n",
      "Epoch 40/100\n",
      "9/9 [==============================] - 0s 7ms/step - loss: 0.3990 - accuracy: 0.9136 - val_loss: 0.3182 - val_accuracy: 1.0000\n",
      "Epoch 41/100\n",
      "9/9 [==============================] - 0s 7ms/step - loss: 0.3979 - accuracy: 0.9136 - val_loss: 0.3140 - val_accuracy: 1.0000\n",
      "Epoch 42/100\n",
      "9/9 [==============================] - 0s 7ms/step - loss: 0.3968 - accuracy: 0.9136 - val_loss: 0.3066 - val_accuracy: 1.0000\n",
      "Epoch 43/100\n",
      "9/9 [==============================] - 0s 7ms/step - loss: 0.3957 - accuracy: 0.9136 - val_loss: 0.3034 - val_accuracy: 1.0000\n",
      "Epoch 44/100\n",
      "9/9 [==============================] - 0s 11ms/step - loss: 0.3947 - accuracy: 0.9136 - val_loss: 0.2977 - val_accuracy: 1.0000\n",
      "Epoch 45/100\n",
      "9/9 [==============================] - 0s 7ms/step - loss: 0.3937 - accuracy: 0.9136 - val_loss: 0.2957 - val_accuracy: 1.0000\n",
      "Epoch 46/100\n",
      "9/9 [==============================] - 0s 7ms/step - loss: 0.3936 - accuracy: 0.9136 - val_loss: 0.2925 - val_accuracy: 1.0000\n",
      "Epoch 47/100\n",
      "9/9 [==============================] - 0s 7ms/step - loss: 0.3926 - accuracy: 0.9136 - val_loss: 0.2894 - val_accuracy: 1.0000\n",
      "Epoch 48/100\n",
      "9/9 [==============================] - 0s 8ms/step - loss: 0.3917 - accuracy: 0.9136 - val_loss: 0.2871 - val_accuracy: 1.0000\n",
      "Epoch 49/100\n",
      "9/9 [==============================] - 0s 10ms/step - loss: 0.3907 - accuracy: 0.9136 - val_loss: 0.2848 - val_accuracy: 1.0000\n",
      "Epoch 50/100\n",
      "9/9 [==============================] - 0s 8ms/step - loss: 0.3899 - accuracy: 0.9136 - val_loss: 0.2818 - val_accuracy: 1.0000\n",
      "Epoch 51/100\n",
      "9/9 [==============================] - 0s 7ms/step - loss: 0.3890 - accuracy: 0.9136 - val_loss: 0.2796 - val_accuracy: 1.0000\n",
      "Epoch 52/100\n",
      "9/9 [==============================] - 0s 6ms/step - loss: 0.3882 - accuracy: 0.9136 - val_loss: 0.2760 - val_accuracy: 1.0000\n",
      "Epoch 53/100\n",
      "9/9 [==============================] - 0s 8ms/step - loss: 0.3873 - accuracy: 0.9136 - val_loss: 0.2740 - val_accuracy: 1.0000\n",
      "Epoch 54/100\n",
      "9/9 [==============================] - 0s 8ms/step - loss: 0.3873 - accuracy: 0.9136 - val_loss: 0.2715 - val_accuracy: 1.0000\n",
      "Epoch 55/100\n",
      "9/9 [==============================] - 0s 7ms/step - loss: 0.3865 - accuracy: 0.9136 - val_loss: 0.2697 - val_accuracy: 1.0000\n",
      "Epoch 56/100\n",
      "9/9 [==============================] - 0s 7ms/step - loss: 0.3857 - accuracy: 0.9136 - val_loss: 0.2673 - val_accuracy: 1.0000\n",
      "Epoch 57/100\n",
      "9/9 [==============================] - 0s 7ms/step - loss: 0.3849 - accuracy: 0.9136 - val_loss: 0.2655 - val_accuracy: 1.0000\n",
      "Epoch 58/100\n",
      "9/9 [==============================] - 0s 8ms/step - loss: 0.3842 - accuracy: 0.9136 - val_loss: 0.2632 - val_accuracy: 1.0000\n",
      "Epoch 59/100\n"
     ]
    },
    {
     "name": "stdout",
     "output_type": "stream",
     "text": [
      "9/9 [==============================] - 0s 7ms/step - loss: 0.3834 - accuracy: 0.9136 - val_loss: 0.2613 - val_accuracy: 1.0000\n",
      "Epoch 60/100\n",
      "9/9 [==============================] - 0s 8ms/step - loss: 0.3827 - accuracy: 0.9136 - val_loss: 0.2582 - val_accuracy: 1.0000\n",
      "Epoch 61/100\n",
      "9/9 [==============================] - 0s 7ms/step - loss: 0.3820 - accuracy: 0.9136 - val_loss: 0.2562 - val_accuracy: 1.0000\n",
      "Epoch 62/100\n",
      "9/9 [==============================] - 0s 7ms/step - loss: 0.3815 - accuracy: 0.9136 - val_loss: 0.2537 - val_accuracy: 1.0000\n",
      "Epoch 63/100\n",
      "9/9 [==============================] - 0s 8ms/step - loss: 0.3814 - accuracy: 0.9136 - val_loss: 0.2520 - val_accuracy: 1.0000\n",
      "Epoch 64/100\n",
      "9/9 [==============================] - 0s 6ms/step - loss: 0.3807 - accuracy: 0.9136 - val_loss: 0.2505 - val_accuracy: 1.0000\n",
      "Epoch 65/100\n",
      "9/9 [==============================] - 0s 6ms/step - loss: 0.3800 - accuracy: 0.9136 - val_loss: 0.2490 - val_accuracy: 1.0000\n",
      "Epoch 66/100\n",
      "9/9 [==============================] - 0s 6ms/step - loss: 0.3795 - accuracy: 0.9136 - val_loss: 0.2476 - val_accuracy: 1.0000\n",
      "Epoch 67/100\n",
      "9/9 [==============================] - 0s 8ms/step - loss: 0.3789 - accuracy: 0.9136 - val_loss: 0.2461 - val_accuracy: 1.0000\n",
      "Epoch 68/100\n",
      "9/9 [==============================] - 0s 9ms/step - loss: 0.3782 - accuracy: 0.9136 - val_loss: 0.2447 - val_accuracy: 1.0000\n",
      "Epoch 69/100\n",
      "9/9 [==============================] - 0s 9ms/step - loss: 0.3776 - accuracy: 0.9136 - val_loss: 0.2430 - val_accuracy: 1.0000\n",
      "Epoch 70/100\n",
      "9/9 [==============================] - 0s 8ms/step - loss: 0.3770 - accuracy: 0.9136 - val_loss: 0.2414 - val_accuracy: 1.0000\n",
      "Epoch 71/100\n",
      "9/9 [==============================] - 0s 9ms/step - loss: 0.3766 - accuracy: 0.9136 - val_loss: 0.2398 - val_accuracy: 1.0000\n",
      "Epoch 72/100\n",
      "9/9 [==============================] - 0s 9ms/step - loss: 0.3759 - accuracy: 0.9136 - val_loss: 0.2425 - val_accuracy: 1.0000\n",
      "Epoch 73/100\n",
      "9/9 [==============================] - 0s 9ms/step - loss: 0.3755 - accuracy: 0.9136 - val_loss: 0.2408 - val_accuracy: 1.0000\n",
      "Epoch 74/100\n",
      "9/9 [==============================] - 0s 7ms/step - loss: 0.3749 - accuracy: 0.9136 - val_loss: 0.2405 - val_accuracy: 1.0000\n",
      "Epoch 75/100\n",
      "9/9 [==============================] - 0s 9ms/step - loss: 0.3750 - accuracy: 0.9136 - val_loss: 0.2390 - val_accuracy: 1.0000\n",
      "Epoch 76/100\n",
      "9/9 [==============================] - 0s 8ms/step - loss: 0.3745 - accuracy: 0.9136 - val_loss: 0.2376 - val_accuracy: 1.0000\n",
      "Epoch 77/100\n",
      "9/9 [==============================] - 0s 8ms/step - loss: 0.3740 - accuracy: 0.9136 - val_loss: 0.2359 - val_accuracy: 1.0000\n",
      "Epoch 78/100\n",
      "9/9 [==============================] - 0s 10ms/step - loss: 0.3735 - accuracy: 0.9136 - val_loss: 0.2345 - val_accuracy: 1.0000\n",
      "Epoch 79/100\n",
      "9/9 [==============================] - 0s 8ms/step - loss: 0.3730 - accuracy: 0.9136 - val_loss: 0.2334 - val_accuracy: 1.0000\n",
      "Epoch 80/100\n",
      "9/9 [==============================] - 0s 8ms/step - loss: 0.3731 - accuracy: 0.9136 - val_loss: 0.2319 - val_accuracy: 1.0000\n",
      "Epoch 81/100\n",
      "9/9 [==============================] - 0s 8ms/step - loss: 0.3727 - accuracy: 0.9136 - val_loss: 0.2304 - val_accuracy: 1.0000\n",
      "Epoch 82/100\n",
      "9/9 [==============================] - 0s 9ms/step - loss: 0.3722 - accuracy: 0.9136 - val_loss: 0.2290 - val_accuracy: 1.0000\n",
      "Epoch 83/100\n",
      "9/9 [==============================] - 0s 9ms/step - loss: 0.3718 - accuracy: 0.9136 - val_loss: 0.2276 - val_accuracy: 1.0000\n",
      "Epoch 84/100\n",
      "9/9 [==============================] - 0s 7ms/step - loss: 0.3713 - accuracy: 0.9136 - val_loss: 0.2265 - val_accuracy: 1.0000\n",
      "Epoch 85/100\n",
      "9/9 [==============================] - 0s 8ms/step - loss: 0.3709 - accuracy: 0.9136 - val_loss: 0.2254 - val_accuracy: 1.0000\n",
      "Epoch 86/100\n",
      "9/9 [==============================] - 0s 33ms/step - loss: 0.3710 - accuracy: 0.9136 - val_loss: 0.2249 - val_accuracy: 1.0000\n",
      "Epoch 87/100\n",
      "9/9 [==============================] - 0s 29ms/step - loss: 0.3711 - accuracy: 0.9136 - val_loss: 0.2237 - val_accuracy: 1.0000\n",
      "Epoch 88/100\n",
      "9/9 [==============================] - 0s 32ms/step - loss: 0.3707 - accuracy: 0.9136 - val_loss: 0.2227 - val_accuracy: 1.0000\n",
      "Epoch 89/100\n",
      "9/9 [==============================] - 0s 37ms/step - loss: 0.3703 - accuracy: 0.9136 - val_loss: 0.2215 - val_accuracy: 1.0000\n",
      "Epoch 90/100\n",
      "9/9 [==============================] - 0s 29ms/step - loss: 0.3699 - accuracy: 0.9136 - val_loss: 0.2212 - val_accuracy: 1.0000\n",
      "Epoch 91/100\n",
      "9/9 [==============================] - 0s 49ms/step - loss: 0.3701 - accuracy: 0.9136 - val_loss: 0.2201 - val_accuracy: 1.0000\n",
      "Epoch 92/100\n",
      "9/9 [==============================] - 0s 39ms/step - loss: 0.3696 - accuracy: 0.9136 - val_loss: 0.2192 - val_accuracy: 1.0000\n",
      "Epoch 93/100\n",
      "9/9 [==============================] - 0s 40ms/step - loss: 0.3693 - accuracy: 0.9136 - val_loss: 0.2182 - val_accuracy: 1.0000\n",
      "Epoch 94/100\n",
      "9/9 [==============================] - 0s 11ms/step - loss: 0.3688 - accuracy: 0.9136 - val_loss: 0.2172 - val_accuracy: 1.0000\n",
      "Epoch 95/100\n",
      "9/9 [==============================] - 0s 9ms/step - loss: 0.3685 - accuracy: 0.9136 - val_loss: 0.2169 - val_accuracy: 1.0000\n",
      "Epoch 96/100\n",
      "9/9 [==============================] - 0s 9ms/step - loss: 0.3687 - accuracy: 0.9136 - val_loss: 0.2159 - val_accuracy: 1.0000\n",
      "Epoch 97/100\n",
      "9/9 [==============================] - 0s 8ms/step - loss: 0.3683 - accuracy: 0.9136 - val_loss: 0.2149 - val_accuracy: 1.0000\n",
      "Epoch 98/100\n",
      "9/9 [==============================] - 0s 8ms/step - loss: 0.3679 - accuracy: 0.9136 - val_loss: 0.2141 - val_accuracy: 1.0000\n",
      "Epoch 99/100\n",
      "9/9 [==============================] - 0s 14ms/step - loss: 0.3676 - accuracy: 0.9136 - val_loss: 0.2131 - val_accuracy: 1.0000\n",
      "Epoch 100/100\n",
      "9/9 [==============================] - 0s 11ms/step - loss: 0.3672 - accuracy: 0.9136 - val_loss: 0.2123 - val_accuracy: 1.0000\n"
     ]
    }
   ],
   "source": [
    "history=fmodel.fit(x_trainp,y_train,batch_size=10,epochs=100,validation_split=0.1)"
   ]
  },
  {
   "cell_type": "code",
   "execution_count": 43,
   "id": "a7488b6f",
   "metadata": {},
   "outputs": [
    {
     "data": {
      "text/plain": [
       "<matplotlib.legend.Legend at 0x25879ce4040>"
      ]
     },
     "execution_count": 43,
     "metadata": {},
     "output_type": "execute_result"
    },
    {
     "data": {
      "image/png": "[encoded data removed]",
      "text/plain": [
       "<Figure size 640x480 with 1 Axes>"
      ]
     },
     "metadata": {},
     "output_type": "display_data"
    }
   ],
   "source": [
    "plt.plot(range(1,101),history.history[\"loss\"],label=\"train_loss\")\n",
    "plt.plot(range(1,101),history.history[\"val_loss\"],label=\"val_loss\")\n",
    "plt.legend()"
   ]
  },
  {
   "cell_type": "code",
   "execution_count": 44,
   "id": "68be1fca",
   "metadata": {
    "scrolled": true
   },
   "outputs": [
    {
     "data": {
      "text/plain": [
       "[0.5041224360466003,\n",
       " 0.4930729269981384,\n",
       " 0.4869420826435089,\n",
       " 0.47905439138412476,\n",
       " 0.47408899664878845,\n",
       " 0.4672906696796417,\n",
       " 0.45213329792022705,\n",
       " 0.44587981700897217,\n",
       " 0.4420442283153534,\n",
       " 0.43644171953201294,\n",
       " 0.43100279569625854,\n",
       " 0.42413759231567383,\n",
       " 0.420754075050354,\n",
       " 0.4156495928764343,\n",
       " 0.41183680295944214,\n",
       " 0.4087114930152893,\n",
       " 0.4060259163379669,\n",
       " 0.40120384097099304,\n",
       " 0.3887729346752167,\n",
       " 0.38564395904541016,\n",
       " 0.38266468048095703,\n",
       " 0.37979933619499207,\n",
       " 0.37671342492103577,\n",
       " 0.3719957768917084,\n",
       " 0.3673032224178314,\n",
       " 0.3625915050506592,\n",
       " 0.3594500422477722,\n",
       " 0.3547561764717102,\n",
       " 0.350210040807724,\n",
       " 0.34711065888404846,\n",
       " 0.34235531091690063,\n",
       " 0.341227263212204,\n",
       " 0.33690714836120605,\n",
       " 0.3288794755935669,\n",
       " 0.3507393002510071,\n",
       " 0.34520795941352844,\n",
       " 0.3386308550834656,\n",
       " 0.33240485191345215,\n",
       " 0.3273000419139862,\n",
       " 0.3181772828102112,\n",
       " 0.3139723837375641,\n",
       " 0.3066054880619049,\n",
       " 0.30339765548706055,\n",
       " 0.297727108001709,\n",
       " 0.29570823907852173,\n",
       " 0.29253461956977844,\n",
       " 0.2894221842288971,\n",
       " 0.2870846688747406,\n",
       " 0.28479525446891785,\n",
       " 0.281832218170166,\n",
       " 0.2796090841293335,\n",
       " 0.2760379910469055,\n",
       " 0.2740333378314972,\n",
       " 0.271543949842453,\n",
       " 0.26966220140457153,\n",
       " 0.2672743797302246,\n",
       " 0.26548832654953003,\n",
       " 0.2631778120994568,\n",
       " 0.2613087594509125,\n",
       " 0.25819483399391174,\n",
       " 0.2561708688735962,\n",
       " 0.253673791885376,\n",
       " 0.2519855797290802,\n",
       " 0.25048187375068665,\n",
       " 0.24902217090129852,\n",
       " 0.2475845068693161,\n",
       " 0.24605748057365417,\n",
       " 0.24465018510818481,\n",
       " 0.24299438297748566,\n",
       " 0.24136583507061005,\n",
       " 0.23976728320121765,\n",
       " 0.24246253073215485,\n",
       " 0.24076718091964722,\n",
       " 0.24050849676132202,\n",
       " 0.23903056979179382,\n",
       " 0.2375618815422058,\n",
       " 0.23585134744644165,\n",
       " 0.2345031052827835,\n",
       " 0.23342956602573395,\n",
       " 0.2319033443927765,\n",
       " 0.23043611645698547,\n",
       " 0.22901442646980286,\n",
       " 0.22763782739639282,\n",
       " 0.22651460766792297,\n",
       " 0.22543461620807648,\n",
       " 0.22488781809806824,\n",
       " 0.22367718815803528,\n",
       " 0.22267068922519684,\n",
       " 0.2215089648962021,\n",
       " 0.22122345864772797,\n",
       " 0.22010397911071777,\n",
       " 0.21916089951992035,\n",
       " 0.2182386964559555,\n",
       " 0.2171844094991684,\n",
       " 0.2169199436903,\n",
       " 0.21590350568294525,\n",
       " 0.21490439772605896,\n",
       " 0.21405242383480072,\n",
       " 0.21309024095535278,\n",
       " 0.21227245032787323]"
      ]
     },
     "execution_count": 44,
     "metadata": {},
     "output_type": "execute_result"
    }
   ],
   "source": [
    "history.history['val_loss']"
   ]
  },
  {
   "cell_type": "code",
   "execution_count": 45,
   "id": "b8498b8b",
   "metadata": {},
   "outputs": [
    {
     "name": "stdout",
     "output_type": "stream",
     "text": [
      "1/1 [==============================] - 0s 120ms/step\n"
     ]
    }
   ],
   "source": [
    "predicted=fmodel.predict(x_test)"
   ]
  },
  {
   "cell_type": "code",
   "execution_count": 46,
   "id": "a08dd728",
   "metadata": {},
   "outputs": [],
   "source": [
    "predicted=np.where(predicted>0.5,1,0)"
   ]
  },
  {
   "cell_type": "code",
   "execution_count": 47,
   "id": "b07f992a",
   "metadata": {},
   "outputs": [
    {
     "data": {
      "text/plain": [
       "1.0"
      ]
     },
     "execution_count": 47,
     "metadata": {},
     "output_type": "execute_result"
    }
   ],
   "source": [
    "accuracy_score(y_test,predicted)"
   ]
  },
  {
   "cell_type": "code",
   "execution_count": 48,
   "id": "82007444",
   "metadata": {},
   "outputs": [
    {
     "data": {
      "text/plain": [
       "array([[6, 0],\n",
       "       [0, 4]], dtype=int64)"
      ]
     },
     "execution_count": 48,
     "metadata": {},
     "output_type": "execute_result"
    }
   ],
   "source": [
    "confusion_matrix(y_test,predicted)"
   ]
  },
  {
   "cell_type": "code",
   "execution_count": 49,
   "id": "7ee37e7e",
   "metadata": {},
   "outputs": [
    {
     "data": {
      "image/png": "[encoded data removed]",
      "text/plain": [
       "<Figure size 640x480 with 2 Axes>"
      ]
     },
     "metadata": {},
     "output_type": "display_data"
    }
   ],
   "source": [
    "\n",
    "cm = confusion_matrix(y_test,predicted)\n",
    "va = ConfusionMatrixDisplay(cm)\n",
    "va.plot()\n",
    "plt.show()"
   ]
  },
  {
   "cell_type": "code",
   "execution_count": 50,
   "id": "1d1af1fc",
   "metadata": {},
   "outputs": [
    {
     "name": "stdout",
     "output_type": "stream",
     "text": [
      "9600/9600 [==============================] - 34s 4ms/step\n"
     ]
    },
    {
     "data": {
      "text/plain": [
       "<AxesSubplot:>"
      ]
     },
     "execution_count": 50,
     "metadata": {},
     "output_type": "execute_result"
    },
    {
     "data": {
      "image/png": "[encoded data removed]",
      "text/plain": [
       "<Figure size 640x480 with 1 Axes>"
      ]
     },
     "metadata": {},
     "output_type": "display_data"
    }
   ],
   "source": [
    "y_train_int = y_train.values.astype(int)\n",
    "plot_decision_regions(x_trainp, y_train_int, clf=fmodel)"
   ]
  },
  {
   "cell_type": "code",
   "execution_count": 51,
   "id": "5ed78c7c",
   "metadata": {},
   "outputs": [],
   "source": [
    "y_test_int = y_test.values.astype(int)"
   ]
  },
  {
   "cell_type": "code",
   "execution_count": 52,
   "id": "edcede38",
   "metadata": {},
   "outputs": [
    {
     "name": "stdout",
     "output_type": "stream",
     "text": [
      "9600/9600 [==============================] - 25s 3ms/step\n"
     ]
    },
    {
     "data": {
      "text/plain": [
       "<AxesSubplot:>"
      ]
     },
     "execution_count": 52,
     "metadata": {},
     "output_type": "execute_result"
    },
    {
     "data": {
      "image/png": "[encoded data removed]",
      "text/plain": [
       "<Figure size 640x480 with 1 Axes>"
      ]
     },
     "metadata": {},
     "output_type": "display_data"
    }
   ],
   "source": [
    "\n",
    "plot_decision_regions(x_testp,y_test_int,clf=fmodel)"
   ]
  }
 ],
 "metadata": {
  "kernelspec": {
   "display_name": "Python 3 (ipykernel)",
   "language": "python",
   "name": "python3"
  },
  "language_info": {
   "codemirror_mode": {
    "name": "ipython",
    "version": 3
   },
   "file_extension": ".py",
   "mimetype": "text/x-python",
   "name": "python",
   "nbconvert_exporter": "python",
   "pygments_lexer": "ipython3",
   "version": "3.9.13"
  }
 },
 "nbformat": 4,
 "nbformat_minor": 5
}
