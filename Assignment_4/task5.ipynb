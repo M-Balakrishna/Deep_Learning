{
 "cells": [
  {
   "cell_type": "code",
   "execution_count": 1,
   "id": "48d6ba7a",
   "metadata": {},
   "outputs": [
    {
     "name": "stdout",
     "output_type": "stream",
     "text": [
      "Using TensorFlow backend\n"
     ]
    }
   ],
   "source": [
    "import pandas as pd\n",
    "import numpy as np\n",
    "import keras\n",
    "\n",
    "from sklearn.model_selection import train_test_split\n",
    "#i#mport imblearn\n",
    "#from imblearn.over_sampling import SMOTE\n",
    "from keras import Sequential\n",
    "from keras.layers import Dense,Dropout,BatchNormalization,Input\n",
    "import matplotlib.pyplot as plt\n",
    "\n",
    "from sklearn.metrics import accuracy_score\n",
    "from sklearn.metrics import confusion_matrix\n",
    "import keras_tuner as k\n",
    "from hyperopt import fmin, tpe, Trials\n",
    "from keras import Sequential\n",
    "from keras.layers import Dense\n",
    "#pip install keras-tuner --upgrade\n",
    "#pip install hyperopt\n",
    "from sklearn.metrics import accuracy_score\n",
    "from sklearn.metrics import confusion_matrix\n",
    "from sklearn.metrics import confusion_matrix,ConfusionMatrixDisplay\n",
    "from mlxtend.plotting  import plot_decision_regions "
   ]
  },
  {
   "cell_type": "code",
   "execution_count": 2,
   "id": "949b4c04",
   "metadata": {},
   "outputs": [],
   "source": [
    "df=pd.read_csv(\"5.outlier.csv\",header=None)"
   ]
  },
  {
   "cell_type": "code",
   "execution_count": 4,
   "id": "88a4a8c6",
   "metadata": {},
   "outputs": [
    {
     "data": {
      "text/html": [
       "<div>\n",
       "<style scoped>\n",
       "    .dataframe tbody tr th:only-of-type {\n",
       "        vertical-align: middle;\n",
       "    }\n",
       "\n",
       "    .dataframe tbody tr th {\n",
       "        vertical-align: top;\n",
       "    }\n",
       "\n",
       "    .dataframe thead th {\n",
       "        text-align: right;\n",
       "    }\n",
       "</style>\n",
       "<table border=\"1\" class=\"dataframe\">\n",
       "  <thead>\n",
       "    <tr style=\"text-align: right;\">\n",
       "      <th></th>\n",
       "      <th>0</th>\n",
       "      <th>1</th>\n",
       "      <th>2</th>\n",
       "    </tr>\n",
       "  </thead>\n",
       "  <tbody>\n",
       "    <tr>\n",
       "      <th>0</th>\n",
       "      <td>-17.897000</td>\n",
       "      <td>7.662423</td>\n",
       "      <td>0</td>\n",
       "    </tr>\n",
       "    <tr>\n",
       "      <th>1</th>\n",
       "      <td>-26.343161</td>\n",
       "      <td>-3.055257</td>\n",
       "      <td>0</td>\n",
       "    </tr>\n",
       "    <tr>\n",
       "      <th>2</th>\n",
       "      <td>-19.059771</td>\n",
       "      <td>-8.531838</td>\n",
       "      <td>0</td>\n",
       "    </tr>\n",
       "    <tr>\n",
       "      <th>3</th>\n",
       "      <td>-16.383898</td>\n",
       "      <td>-2.352667</td>\n",
       "      <td>0</td>\n",
       "    </tr>\n",
       "    <tr>\n",
       "      <th>4</th>\n",
       "      <td>-12.926541</td>\n",
       "      <td>9.074994</td>\n",
       "      <td>0</td>\n",
       "    </tr>\n",
       "  </tbody>\n",
       "</table>\n",
       "</div>"
      ],
      "text/plain": [
       "           0         1  2\n",
       "0 -17.897000  7.662423  0\n",
       "1 -26.343161 -3.055257  0\n",
       "2 -19.059771 -8.531838  0\n",
       "3 -16.383898 -2.352667  0\n",
       "4 -12.926541  9.074994  0"
      ]
     },
     "execution_count": 4,
     "metadata": {},
     "output_type": "execute_result"
    }
   ],
   "source": [
    "df.head()"
   ]
  },
  {
   "cell_type": "code",
   "execution_count": 3,
   "id": "466c6f8d",
   "metadata": {},
   "outputs": [
    {
     "data": {
      "text/plain": [
       "(600, 3)"
      ]
     },
     "execution_count": 3,
     "metadata": {},
     "output_type": "execute_result"
    }
   ],
   "source": [
    "df.shape"
   ]
  },
  {
   "cell_type": "code",
   "execution_count": 5,
   "id": "c901a7e3",
   "metadata": {},
   "outputs": [
    {
     "data": {
      "text/plain": [
       "0    0\n",
       "1    0\n",
       "2    0\n",
       "dtype: int64"
      ]
     },
     "execution_count": 5,
     "metadata": {},
     "output_type": "execute_result"
    }
   ],
   "source": [
    "df.isnull().sum()"
   ]
  },
  {
   "cell_type": "code",
   "execution_count": 6,
   "id": "79b7d693",
   "metadata": {},
   "outputs": [
    {
     "data": {
      "text/plain": [
       "0"
      ]
     },
     "execution_count": 6,
     "metadata": {},
     "output_type": "execute_result"
    }
   ],
   "source": [
    "df.duplicated().sum()"
   ]
  },
  {
   "cell_type": "code",
   "execution_count": 7,
   "id": "9dc142d8",
   "metadata": {},
   "outputs": [],
   "source": [
    "x=df.iloc[0:,:2]"
   ]
  },
  {
   "cell_type": "code",
   "execution_count": 8,
   "id": "910b2cfe",
   "metadata": {},
   "outputs": [],
   "source": [
    "y=df.iloc[0:,2]"
   ]
  },
  {
   "cell_type": "code",
   "execution_count": 9,
   "id": "0227967e",
   "metadata": {},
   "outputs": [],
   "source": [
    "x_train,x_test,y_train,y_test=train_test_split(x,y,test_size=0.10)"
   ]
  },
  {
   "cell_type": "code",
   "execution_count": 10,
   "id": "4c4fd26b",
   "metadata": {},
   "outputs": [
    {
     "data": {
      "text/plain": [
       "540"
      ]
     },
     "execution_count": 10,
     "metadata": {},
     "output_type": "execute_result"
    }
   ],
   "source": [
    "x_train.value_counts().sum()"
   ]
  },
  {
   "cell_type": "code",
   "execution_count": 11,
   "id": "d2fd60c7",
   "metadata": {
    "scrolled": true
   },
   "outputs": [
    {
     "data": {
      "text/plain": [
       "1    273\n",
       "0    267\n",
       "Name: 2, dtype: int64"
      ]
     },
     "execution_count": 11,
     "metadata": {},
     "output_type": "execute_result"
    }
   ],
   "source": [
    "y_train.value_counts()"
   ]
  },
  {
   "cell_type": "code",
   "execution_count": 12,
   "id": "a10bd65f",
   "metadata": {},
   "outputs": [],
   "source": [
    "from sklearn.preprocessing import StandardScaler\n",
    "std = StandardScaler()\n",
    "x_trainp = std.fit_transform(x_train)\n",
    "x_testp = std.transform(x_test)"
   ]
  },
  {
   "cell_type": "code",
   "execution_count": 13,
   "id": "87ef559b",
   "metadata": {},
   "outputs": [],
   "source": [
    "trials = Trials()"
   ]
  },
  {
   "cell_type": "code",
   "execution_count": 14,
   "id": "52a60349",
   "metadata": {},
   "outputs": [],
   "source": [
    "from keras.regularizers import L1,L2,L1L2"
   ]
  },
  {
   "cell_type": "code",
   "execution_count": 15,
   "id": "954f531a",
   "metadata": {},
   "outputs": [],
   "source": [
    "def modellss(hp):\n",
    "    model=Sequential()\n",
    "    model.add(Input(shape=(2,)))\n",
    "    \n",
    "    for i in range(hp.Int(\"hiddenlayers\",min_value=5,max_value=10)):\n",
    "                model.add(Dense(units=hp.Int(\"neurons{}\".format(i),min_value=1,max_value=25),activation=\"tanh\",kernel_regularizer=L2(0.001),bias_regularizer=L2(0.001),kernel_initializer=\"he_normal\"))\n",
    "\n",
    "                    \n",
    "                \n",
    "    model.add(Dense(1,activation=\"sigmoid\"))\n",
    "    model.compile(loss='binary_crossentropy',optimizer='sgd', metrics=['accuracy'])\n",
    "    return model"
   ]
  },
  {
   "cell_type": "code",
   "execution_count": 16,
   "id": "1d1a5d3f",
   "metadata": {},
   "outputs": [],
   "source": [
    "tuner=k.RandomSearch(modellss,objective=\"val_accuracy\",max_trials=25,directory=\"C:\\\\Users\\\\admin\\\\main\\\\folder5\",project_name=\"f1\")"
   ]
  },
  {
   "cell_type": "code",
   "execution_count": 17,
   "id": "c1f525df",
   "metadata": {
    "scrolled": true
   },
   "outputs": [
    {
     "name": "stdout",
     "output_type": "stream",
     "text": [
      "Trial 25 Complete [00h 00m 08s]\n",
      "val_accuracy: 1.0\n",
      "\n",
      "Best val_accuracy So Far: 1.0\n",
      "Total elapsed time: 00h 03m 31s\n"
     ]
    }
   ],
   "source": [
    "tuner.search(x_trainp,y_train,epochs=30,validation_data=(x_test,y_test))"
   ]
  },
  {
   "cell_type": "code",
   "execution_count": 18,
   "id": "ccdcb197",
   "metadata": {},
   "outputs": [
    {
     "name": "stdout",
     "output_type": "stream",
     "text": [
      "Results summary\n",
      "Results in C:\\Users\\admin\\main\\folder5\\f1\n",
      "Showing 10 best trials\n",
      "Objective(name=\"val_accuracy\", direction=\"max\")\n",
      "\n",
      "Trial 00 summary\n",
      "Hyperparameters:\n",
      "hiddenlayers: 10\n",
      "neurons0: 4\n",
      "neurons1: 11\n",
      "neurons2: 15\n",
      "neurons3: 10\n",
      "neurons4: 23\n",
      "neurons5: 1\n",
      "neurons6: 1\n",
      "neurons7: 1\n",
      "neurons8: 1\n",
      "neurons9: 1\n",
      "Score: 1.0\n",
      "\n",
      "Trial 01 summary\n",
      "Hyperparameters:\n",
      "hiddenlayers: 10\n",
      "neurons0: 18\n",
      "neurons1: 16\n",
      "neurons2: 18\n",
      "neurons3: 3\n",
      "neurons4: 20\n",
      "neurons5: 10\n",
      "neurons6: 10\n",
      "neurons7: 1\n",
      "neurons8: 9\n",
      "neurons9: 23\n",
      "Score: 1.0\n",
      "\n",
      "Trial 03 summary\n",
      "Hyperparameters:\n",
      "hiddenlayers: 5\n",
      "neurons0: 16\n",
      "neurons1: 4\n",
      "neurons2: 15\n",
      "neurons3: 24\n",
      "neurons4: 7\n",
      "neurons5: 8\n",
      "neurons6: 20\n",
      "neurons7: 11\n",
      "neurons8: 2\n",
      "neurons9: 15\n",
      "Score: 1.0\n",
      "\n",
      "Trial 04 summary\n",
      "Hyperparameters:\n",
      "hiddenlayers: 5\n",
      "neurons0: 3\n",
      "neurons1: 6\n",
      "neurons2: 22\n",
      "neurons3: 20\n",
      "neurons4: 19\n",
      "neurons5: 8\n",
      "neurons6: 20\n",
      "neurons7: 5\n",
      "neurons8: 4\n",
      "neurons9: 10\n",
      "Score: 1.0\n",
      "\n",
      "Trial 06 summary\n",
      "Hyperparameters:\n",
      "hiddenlayers: 7\n",
      "neurons0: 5\n",
      "neurons1: 24\n",
      "neurons2: 23\n",
      "neurons3: 10\n",
      "neurons4: 18\n",
      "neurons5: 1\n",
      "neurons6: 8\n",
      "neurons7: 7\n",
      "neurons8: 4\n",
      "neurons9: 3\n",
      "Score: 1.0\n",
      "\n",
      "Trial 07 summary\n",
      "Hyperparameters:\n",
      "hiddenlayers: 5\n",
      "neurons0: 6\n",
      "neurons1: 16\n",
      "neurons2: 12\n",
      "neurons3: 2\n",
      "neurons4: 12\n",
      "neurons5: 16\n",
      "neurons6: 5\n",
      "neurons7: 15\n",
      "neurons8: 15\n",
      "neurons9: 17\n",
      "Score: 1.0\n",
      "\n",
      "Trial 08 summary\n",
      "Hyperparameters:\n",
      "hiddenlayers: 8\n",
      "neurons0: 23\n",
      "neurons1: 24\n",
      "neurons2: 13\n",
      "neurons3: 22\n",
      "neurons4: 10\n",
      "neurons5: 22\n",
      "neurons6: 5\n",
      "neurons7: 23\n",
      "neurons8: 20\n",
      "neurons9: 10\n",
      "Score: 1.0\n",
      "\n",
      "Trial 09 summary\n",
      "Hyperparameters:\n",
      "hiddenlayers: 8\n",
      "neurons0: 25\n",
      "neurons1: 25\n",
      "neurons2: 23\n",
      "neurons3: 1\n",
      "neurons4: 16\n",
      "neurons5: 20\n",
      "neurons6: 14\n",
      "neurons7: 8\n",
      "neurons8: 8\n",
      "neurons9: 23\n",
      "Score: 1.0\n",
      "\n",
      "Trial 10 summary\n",
      "Hyperparameters:\n",
      "hiddenlayers: 8\n",
      "neurons0: 14\n",
      "neurons1: 8\n",
      "neurons2: 23\n",
      "neurons3: 4\n",
      "neurons4: 15\n",
      "neurons5: 21\n",
      "neurons6: 9\n",
      "neurons7: 22\n",
      "neurons8: 6\n",
      "neurons9: 25\n",
      "Score: 1.0\n",
      "\n",
      "Trial 13 summary\n",
      "Hyperparameters:\n",
      "hiddenlayers: 9\n",
      "neurons0: 3\n",
      "neurons1: 17\n",
      "neurons2: 19\n",
      "neurons3: 24\n",
      "neurons4: 9\n",
      "neurons5: 20\n",
      "neurons6: 1\n",
      "neurons7: 14\n",
      "neurons8: 24\n",
      "neurons9: 15\n",
      "Score: 1.0\n"
     ]
    }
   ],
   "source": [
    "tuner.results_summary()\n"
   ]
  },
  {
   "cell_type": "code",
   "execution_count": 19,
   "id": "4fafc01f",
   "metadata": {},
   "outputs": [
    {
     "data": {
      "text/plain": [
       "{'hiddenlayers': 10,\n",
       " 'neurons0': 4,\n",
       " 'neurons1': 11,\n",
       " 'neurons2': 15,\n",
       " 'neurons3': 10,\n",
       " 'neurons4': 23,\n",
       " 'neurons5': 1,\n",
       " 'neurons6': 1,\n",
       " 'neurons7': 1,\n",
       " 'neurons8': 1,\n",
       " 'neurons9': 1}"
      ]
     },
     "execution_count": 19,
     "metadata": {},
     "output_type": "execute_result"
    }
   ],
   "source": [
    "tuner.get_best_hyperparameters()[0].values"
   ]
  },
  {
   "cell_type": "code",
   "execution_count": 20,
   "id": "5cff68a4",
   "metadata": {},
   "outputs": [],
   "source": [
    "fmodel = tuner.get_best_models(num_models=1)[0]"
   ]
  },
  {
   "cell_type": "code",
   "execution_count": 21,
   "id": "b3a5d585",
   "metadata": {},
   "outputs": [
    {
     "name": "stdout",
     "output_type": "stream",
     "text": [
      "Model: \"sequential\"\n",
      "_________________________________________________________________\n",
      " Layer (type)                Output Shape              Param #   \n",
      "=================================================================\n",
      " dense (Dense)               (None, 4)                 12        \n",
      "                                                                 \n",
      " dense_1 (Dense)             (None, 11)                55        \n",
      "                                                                 \n",
      " dense_2 (Dense)             (None, 15)                180       \n",
      "                                                                 \n",
      " dense_3 (Dense)             (None, 10)                160       \n",
      "                                                                 \n",
      " dense_4 (Dense)             (None, 23)                253       \n",
      "                                                                 \n",
      " dense_5 (Dense)             (None, 1)                 24        \n",
      "                                                                 \n",
      " dense_6 (Dense)             (None, 1)                 2         \n",
      "                                                                 \n",
      " dense_7 (Dense)             (None, 1)                 2         \n",
      "                                                                 \n",
      " dense_8 (Dense)             (None, 1)                 2         \n",
      "                                                                 \n",
      " dense_9 (Dense)             (None, 1)                 2         \n",
      "                                                                 \n",
      " dense_10 (Dense)            (None, 1)                 2         \n",
      "                                                                 \n",
      "=================================================================\n",
      "Total params: 694 (2.71 KB)\n",
      "Trainable params: 694 (2.71 KB)\n",
      "Non-trainable params: 0 (0.00 Byte)\n",
      "_________________________________________________________________\n"
     ]
    }
   ],
   "source": [
    "fmodel.summary()"
   ]
  },
  {
   "cell_type": "code",
   "execution_count": 22,
   "id": "23551497",
   "metadata": {
    "scrolled": true
   },
   "outputs": [
    {
     "name": "stdout",
     "output_type": "stream",
     "text": [
      "Epoch 1/30\n",
      "49/49 [==============================] - 3s 10ms/step - loss: 0.4024 - accuracy: 1.0000 - val_loss: 0.3682 - val_accuracy: 1.0000\n",
      "Epoch 2/30\n",
      "49/49 [==============================] - 0s 4ms/step - loss: 0.3471 - accuracy: 1.0000 - val_loss: 0.3294 - val_accuracy: 1.0000\n",
      "Epoch 3/30\n",
      "49/49 [==============================] - 0s 4ms/step - loss: 0.3169 - accuracy: 1.0000 - val_loss: 0.3061 - val_accuracy: 1.0000\n",
      "Epoch 4/30\n",
      "49/49 [==============================] - 0s 3ms/step - loss: 0.2972 - accuracy: 1.0000 - val_loss: 0.2896 - val_accuracy: 1.0000\n",
      "Epoch 5/30\n",
      "49/49 [==============================] - 0s 3ms/step - loss: 0.2829 - accuracy: 1.0000 - val_loss: 0.2771 - val_accuracy: 1.0000\n",
      "Epoch 6/30\n",
      "49/49 [==============================] - 0s 4ms/step - loss: 0.2716 - accuracy: 1.0000 - val_loss: 0.2669 - val_accuracy: 1.0000\n",
      "Epoch 7/30\n",
      "49/49 [==============================] - 0s 4ms/step - loss: 0.2623 - accuracy: 1.0000 - val_loss: 0.2584 - val_accuracy: 1.0000\n",
      "Epoch 8/30\n",
      "49/49 [==============================] - 0s 4ms/step - loss: 0.2544 - accuracy: 1.0000 - val_loss: 0.2510 - val_accuracy: 1.0000\n",
      "Epoch 9/30\n",
      "49/49 [==============================] - 0s 3ms/step - loss: 0.2475 - accuracy: 1.0000 - val_loss: 0.2446 - val_accuracy: 1.0000\n",
      "Epoch 10/30\n",
      "49/49 [==============================] - 0s 4ms/step - loss: 0.2415 - accuracy: 1.0000 - val_loss: 0.2389 - val_accuracy: 1.0000\n",
      "Epoch 11/30\n",
      "49/49 [==============================] - 0s 3ms/step - loss: 0.2360 - accuracy: 1.0000 - val_loss: 0.2337 - val_accuracy: 1.0000\n",
      "Epoch 12/30\n",
      "49/49 [==============================] - 0s 3ms/step - loss: 0.2312 - accuracy: 1.0000 - val_loss: 0.2291 - val_accuracy: 1.0000\n",
      "Epoch 13/30\n",
      "49/49 [==============================] - 0s 3ms/step - loss: 0.2267 - accuracy: 1.0000 - val_loss: 0.2248 - val_accuracy: 1.0000\n",
      "Epoch 14/30\n",
      "49/49 [==============================] - 0s 4ms/step - loss: 0.2226 - accuracy: 1.0000 - val_loss: 0.2210 - val_accuracy: 1.0000\n",
      "Epoch 15/30\n",
      "49/49 [==============================] - 0s 3ms/step - loss: 0.2189 - accuracy: 1.0000 - val_loss: 0.2173 - val_accuracy: 1.0000\n",
      "Epoch 16/30\n",
      "49/49 [==============================] - 0s 3ms/step - loss: 0.2154 - accuracy: 1.0000 - val_loss: 0.2140 - val_accuracy: 1.0000\n",
      "Epoch 17/30\n",
      "49/49 [==============================] - 0s 3ms/step - loss: 0.2122 - accuracy: 1.0000 - val_loss: 0.2109 - val_accuracy: 1.0000\n",
      "Epoch 18/30\n",
      "49/49 [==============================] - 0s 3ms/step - loss: 0.2092 - accuracy: 1.0000 - val_loss: 0.2080 - val_accuracy: 1.0000\n",
      "Epoch 19/30\n",
      "49/49 [==============================] - 0s 3ms/step - loss: 0.2064 - accuracy: 1.0000 - val_loss: 0.2053 - val_accuracy: 1.0000\n",
      "Epoch 20/30\n",
      "49/49 [==============================] - 0s 3ms/step - loss: 0.2038 - accuracy: 1.0000 - val_loss: 0.2027 - val_accuracy: 1.0000\n",
      "Epoch 21/30\n",
      "49/49 [==============================] - 0s 3ms/step - loss: 0.2013 - accuracy: 1.0000 - val_loss: 0.2003 - val_accuracy: 1.0000\n",
      "Epoch 22/30\n",
      "49/49 [==============================] - 0s 3ms/step - loss: 0.1990 - accuracy: 1.0000 - val_loss: 0.1981 - val_accuracy: 1.0000\n",
      "Epoch 23/30\n",
      "49/49 [==============================] - 0s 3ms/step - loss: 0.1968 - accuracy: 1.0000 - val_loss: 0.1959 - val_accuracy: 1.0000\n",
      "Epoch 24/30\n",
      "49/49 [==============================] - 0s 3ms/step - loss: 0.1947 - accuracy: 1.0000 - val_loss: 0.1939 - val_accuracy: 1.0000\n",
      "Epoch 25/30\n",
      "49/49 [==============================] - 0s 3ms/step - loss: 0.1927 - accuracy: 1.0000 - val_loss: 0.1919 - val_accuracy: 1.0000\n",
      "Epoch 26/30\n",
      "49/49 [==============================] - 0s 3ms/step - loss: 0.1908 - accuracy: 1.0000 - val_loss: 0.1901 - val_accuracy: 1.0000\n",
      "Epoch 27/30\n",
      "49/49 [==============================] - 0s 3ms/step - loss: 0.1890 - accuracy: 1.0000 - val_loss: 0.1883 - val_accuracy: 1.0000\n",
      "Epoch 28/30\n",
      "49/49 [==============================] - 0s 3ms/step - loss: 0.1873 - accuracy: 1.0000 - val_loss: 0.1867 - val_accuracy: 1.0000\n",
      "Epoch 29/30\n",
      "49/49 [==============================] - 0s 4ms/step - loss: 0.1856 - accuracy: 1.0000 - val_loss: 0.1850 - val_accuracy: 1.0000\n",
      "Epoch 30/30\n",
      "49/49 [==============================] - 0s 4ms/step - loss: 0.1841 - accuracy: 1.0000 - val_loss: 0.1835 - val_accuracy: 1.0000\n"
     ]
    }
   ],
   "source": [
    "history=fmodel.fit(x_trainp,y_train,batch_size=10,epochs=30,validation_split=0.1)"
   ]
  },
  {
   "cell_type": "code",
   "execution_count": 23,
   "id": "acabd179",
   "metadata": {},
   "outputs": [
    {
     "data": {
      "text/plain": [
       "<matplotlib.legend.Legend at 0x242407e9fd0>"
      ]
     },
     "execution_count": 23,
     "metadata": {},
     "output_type": "execute_result"
    },
    {
     "data": {
      "image/png": "[encoded data removed]",
      "text/plain": [
       "<Figure size 640x480 with 1 Axes>"
      ]
     },
     "metadata": {},
     "output_type": "display_data"
    }
   ],
   "source": [
    "plt.plot(range(1,31),history.history[\"loss\"],label=\"train_loss\")\n",
    "plt.plot(range(1,31),history.history[\"val_loss\"],label=\"val_loss\")\n",
    "plt.legend()"
   ]
  },
  {
   "cell_type": "code",
   "execution_count": 24,
   "id": "574ef3c1",
   "metadata": {
    "scrolled": true
   },
   "outputs": [
    {
     "data": {
      "text/plain": [
       "[0.36823180317878723,\n",
       " 0.32942745089530945,\n",
       " 0.30607202649116516,\n",
       " 0.28962284326553345,\n",
       " 0.27705055475234985,\n",
       " 0.26690152287483215,\n",
       " 0.25837939977645874,\n",
       " 0.25104767084121704,\n",
       " 0.2446150779724121,\n",
       " 0.2388971596956253,\n",
       " 0.2337489277124405,\n",
       " 0.2290937751531601,\n",
       " 0.2248494178056717,\n",
       " 0.22095192968845367,\n",
       " 0.21734997630119324,\n",
       " 0.2140110582113266,\n",
       " 0.21089886128902435,\n",
       " 0.2079981118440628,\n",
       " 0.20527905225753784,\n",
       " 0.20272444188594818,\n",
       " 0.20031975209712982,\n",
       " 0.19805167615413666,\n",
       " 0.1959037035703659,\n",
       " 0.19386672973632812,\n",
       " 0.19193018972873688,\n",
       " 0.1900877058506012,\n",
       " 0.18832790851593018,\n",
       " 0.18665002286434174,\n",
       " 0.18504425883293152,\n",
       " 0.1835060864686966]"
      ]
     },
     "execution_count": 24,
     "metadata": {},
     "output_type": "execute_result"
    }
   ],
   "source": [
    "history.history['val_loss']"
   ]
  },
  {
   "cell_type": "code",
   "execution_count": 25,
   "id": "8e733d9f",
   "metadata": {},
   "outputs": [
    {
     "name": "stdout",
     "output_type": "stream",
     "text": [
      "2/2 [==============================] - 0s 8ms/step\n"
     ]
    }
   ],
   "source": [
    "predicted=fmodel.predict(x_test)"
   ]
  },
  {
   "cell_type": "code",
   "execution_count": 26,
   "id": "12c8ceca",
   "metadata": {},
   "outputs": [],
   "source": [
    "predicted=np.where(predicted>0.5,1,0)"
   ]
  },
  {
   "cell_type": "code",
   "execution_count": 27,
   "id": "71f1be95",
   "metadata": {},
   "outputs": [
    {
     "data": {
      "text/plain": [
       "1.0"
      ]
     },
     "execution_count": 27,
     "metadata": {},
     "output_type": "execute_result"
    }
   ],
   "source": [
    "accuracy_score(y_test,predicted)"
   ]
  },
  {
   "cell_type": "code",
   "execution_count": 28,
   "id": "331c9357",
   "metadata": {
    "scrolled": true
   },
   "outputs": [
    {
     "data": {
      "text/plain": [
       "array([[33,  0],\n",
       "       [ 0, 27]], dtype=int64)"
      ]
     },
     "execution_count": 28,
     "metadata": {},
     "output_type": "execute_result"
    }
   ],
   "source": [
    "confusion_matrix(y_test,predicted)"
   ]
  },
  {
   "cell_type": "code",
   "execution_count": 29,
   "id": "ef6b9da4",
   "metadata": {},
   "outputs": [
    {
     "data": {
      "image/png": "[encoded data removed]",
      "text/plain": [
       "<Figure size 640x480 with 2 Axes>"
      ]
     },
     "metadata": {},
     "output_type": "display_data"
    }
   ],
   "source": [
    "\n",
    "cm = confusion_matrix(y_test,predicted)\n",
    "va = ConfusionMatrixDisplay(cm)\n",
    "va.plot()\n",
    "plt.show()"
   ]
  },
  {
   "cell_type": "code",
   "execution_count": 30,
   "id": "746eb75a",
   "metadata": {
    "scrolled": true
   },
   "outputs": [
    {
     "name": "stdout",
     "output_type": "stream",
     "text": [
      "9600/9600 [==============================] - 23s 2ms/step\n"
     ]
    },
    {
     "data": {
      "text/plain": [
       "<AxesSubplot:>"
      ]
     },
     "execution_count": 30,
     "metadata": {},
     "output_type": "execute_result"
    },
    {
     "data": {
      "image/png": "[encoded data removed]",
      "text/plain": [
       "<Figure size 640x480 with 1 Axes>"
      ]
     },
     "metadata": {},
     "output_type": "display_data"
    }
   ],
   "source": [
    "y_train_int = y_train.values.astype(int)\n",
    "plot_decision_regions(x_trainp, y_train_int, clf=fmodel)"
   ]
  },
  {
   "cell_type": "code",
   "execution_count": 31,
   "id": "283314a3",
   "metadata": {},
   "outputs": [],
   "source": [
    "y_test_int = y_test.values.astype(int)"
   ]
  },
  {
   "cell_type": "code",
   "execution_count": 32,
   "id": "629bf18f",
   "metadata": {},
   "outputs": [
    {
     "name": "stdout",
     "output_type": "stream",
     "text": [
      "9600/9600 [==============================] - 21s 2ms/step\n"
     ]
    },
    {
     "data": {
      "text/plain": [
       "<AxesSubplot:>"
      ]
     },
     "execution_count": 32,
     "metadata": {},
     "output_type": "execute_result"
    },
    {
     "data": {
      "image/png": "[encoded data removed]",
      "text/plain": [
       "<Figure size 640x480 with 1 Axes>"
      ]
     },
     "metadata": {},
     "output_type": "display_data"
    }
   ],
   "source": [
    "\n",
    "plot_decision_regions(x_testp,y_test_int,clf=fmodel)"
   ]
  },
  {
   "cell_type": "code",
   "execution_count": null,
   "id": "c59d5025",
   "metadata": {},
   "outputs": [],
   "source": []
  }
 ],
 "metadata": {
  "kernelspec": {
   "display_name": "Python 3 (ipykernel)",
   "language": "python",
   "name": "python3"
  },
  "language_info": {
   "codemirror_mode": {
    "name": "ipython",
    "version": 3
   },
   "file_extension": ".py",
   "mimetype": "text/x-python",
   "name": "python",
   "nbconvert_exporter": "python",
   "pygments_lexer": "ipython3",
   "version": "3.9.13"
  }
 },
 "nbformat": 4,
 "nbformat_minor": 5
}
